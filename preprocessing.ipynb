{
 "cells": [
  {
   "cell_type": "code",
   "execution_count": null,
   "metadata": {},
   "outputs": [],
   "source": [
    "import os\n",
    "import pandas as pd\n",
    "\n",
    "base_dir = \"../pgm\"\n",
    "dataframes = {}\n",
    "\n",
    "for year in range(2016, 2022):\n",
    "    year_dir = os.path.join(base_dir, f\"year={year}/\")\n",
    "    \n",
    "    if os.path.exists(year_dir):\n",
    "        year_dataframes = []\n",
    "        \n",
    "        for file in os.listdir(year_dir):\n",
    "            if file.endswith(\".parquet\"):\n",
    "                file_path = os.path.join(year_dir, file)\n",
    "                \n",
    "                df = pd.read_parquet(file_path)\n",
    "                \n",
    "                year_dataframes.append(df)\n",
    "        \n",
    "        if year_dataframes:\n",
    "            dataframes[year] = pd.concat(year_dataframes, ignore_index=True)\n",
    "\n",
    "master_df = pd.concat(dataframes.values(), ignore_index=True)\n",
    "master_df"
   ]
  },
  {
   "cell_type": "code",
   "execution_count": null,
   "metadata": {},
   "outputs": [],
   "source": [
    "import pandas as pd\n",
    "from datetime import datetime\n",
    "\n",
    "month_id_map = {}\n",
    "for year in range(1990, 2022):\n",
    "    for month in range(1, 13):\n",
    "        month_id = (year - 1990) * 12 + month + 120\n",
    "        month_id_map[month_id] = datetime(year, month, 1)\n",
    "\n",
    "master_df['date'] = master_df['month_id'].map(month_id_map)\n",
    "master_df.drop(columns=['month'], inplace=True)\n",
    "master_df"
   ]
  },
  {
   "cell_type": "code",
   "execution_count": null,
   "metadata": {},
   "outputs": [],
   "source": [
    "from sklearn.preprocessing import StandardScaler\n",
    "\n",
    "scaler = StandardScaler()\n",
    "master_df_nonscaled = master_df\n",
    "master_df= pd.DataFrame(scaler.fit_transform(master_df.drop(columns=['month_id', 'priogrid_gid', 'date'])), columns=master_df.columns.drop(['month_id', 'priogrid_gid', 'date']))\n",
    "master_df['month_id'] = master_df_nonscaled['month_id']\n",
    "master_df['priogrid_gid'] = master_df_nonscaled['priogrid_gid']\n",
    "master_df['date'] = master_df_nonscaled['date']\n",
    "master_df"
   ]
  },
  {
   "cell_type": "code",
   "execution_count": null,
   "metadata": {},
   "outputs": [],
   "source": [
    "master_df_nonscaled = master_df_nonscaled.drop(columns=['date'])"
   ]
  },
  {
   "cell_type": "code",
   "execution_count": 2,
   "metadata": {},
   "outputs": [
    {
     "ename": "NameError",
     "evalue": "name 'master_df_nonscaled' is not defined",
     "output_type": "error",
     "traceback": [
      "\u001b[0;31m---------------------------------------------------------------------------\u001b[0m",
      "\u001b[0;31mNameError\u001b[0m                                 Traceback (most recent call last)",
      "Cell \u001b[0;32mIn[2], line 1\u001b[0m\n\u001b[0;32m----> 1\u001b[0m \u001b[43mmaster_df_nonscaled\u001b[49m\n",
      "\u001b[0;31mNameError\u001b[0m: name 'master_df_nonscaled' is not defined"
     ]
    }
   ],
   "source": [
    "master_df_nonscaled"
   ]
  },
  {
   "cell_type": "code",
   "execution_count": null,
   "metadata": {},
   "outputs": [],
   "source": []
  }
 ],
 "metadata": {
  "kernelspec": {
   "display_name": "Python 3",
   "language": "python",
   "name": "python3"
  },
  "language_info": {
   "codemirror_mode": {
    "name": "ipython",
    "version": 3
   },
   "file_extension": ".py",
   "mimetype": "text/x-python",
   "name": "python",
   "nbconvert_exporter": "python",
   "pygments_lexer": "ipython3",
   "version": "3.11.9"
  }
 },
 "nbformat": 4,
 "nbformat_minor": 2
}
