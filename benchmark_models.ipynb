{
 "cells": [
  {
   "cell_type": "markdown",
   "metadata": {},
   "source": [
    "Testing Benchmark models on the dataset to figure out the key parameters that can be used to improve the model performance."
   ]
  },
  {
   "cell_type": "code",
   "execution_count": 39,
   "metadata": {},
   "outputs": [],
   "source": [
    "# importing libraries\n",
    "import os\n",
    "import pandas as pd\n",
    "import numpy as np"
   ]
  },
  {
   "cell_type": "code",
   "execution_count": 5,
   "metadata": {},
   "outputs": [],
   "source": [
    "# Converting the parquet files to csv files for all the years\n",
    "def convert_parquet_to_csv():\n",
    "    cwd = os.getcwd()\n",
    "    pgm_folder = os.path.join(cwd, 'pgm')\n",
    "    csv_folder = os.path.join(cwd, 'csv')\n",
    "    if not os.path.exists(csv_folder):\n",
    "        os.makedirs(csv_folder)\n",
    "    subfolders = [f.path for f in os.scandir(pgm_folder) if f.is_dir()]\n",
    "    # iterate over all the subfolders\n",
    "    for subfolder in subfolders:\n",
    "        # get the year from the subfolder name\n",
    "        year = subfolder.split('/')[-1]\n",
    "        parquet_files = [f.path for f in os.scandir(subfolder) if f.is_file() and f.name.endswith('.parquet')]\n",
    "        # iterate over all the parquet files\n",
    "        for parquet_file in parquet_files:\n",
    "            df = pd.read_parquet(parquet_file)\n",
    "            file_name = parquet_file.split('/')[-1].split('.')[0]\n",
    "            csv_file = os.path.join(csv_folder, year + '_' + file_name + '.csv')\n",
    "            df.to_csv(csv_file, index=False)\n",
    "            print('Converted', parquet_file, 'to', csv_file)\n"
   ]
  },
  {
   "cell_type": "code",
   "execution_count": 6,
   "metadata": {},
   "outputs": [
    {
     "name": "stdout",
     "output_type": "stream",
     "text": [
      "Converted /Users/sauhardsharma/Desktop/DL_Project/pgm/year=1998/9b5cbc69a393493fb2002b4a53188b67-0.parquet to /Users/sauhardsharma/Desktop/DL_Project/csv/year=1998_9b5cbc69a393493fb2002b4a53188b67-0.csv\n",
      "Converted /Users/sauhardsharma/Desktop/DL_Project/pgm/year=1991/9b5cbc69a393493fb2002b4a53188b67-0.parquet to /Users/sauhardsharma/Desktop/DL_Project/csv/year=1991_9b5cbc69a393493fb2002b4a53188b67-0.csv\n",
      "Converted /Users/sauhardsharma/Desktop/DL_Project/pgm/year=1996/9b5cbc69a393493fb2002b4a53188b67-0.parquet to /Users/sauhardsharma/Desktop/DL_Project/csv/year=1996_9b5cbc69a393493fb2002b4a53188b67-0.csv\n",
      "Converted /Users/sauhardsharma/Desktop/DL_Project/pgm/year=1997/9b5cbc69a393493fb2002b4a53188b67-0.parquet to /Users/sauhardsharma/Desktop/DL_Project/csv/year=1997_9b5cbc69a393493fb2002b4a53188b67-0.csv\n",
      "Converted /Users/sauhardsharma/Desktop/DL_Project/pgm/year=1990/9b5cbc69a393493fb2002b4a53188b67-0.parquet to /Users/sauhardsharma/Desktop/DL_Project/csv/year=1990_9b5cbc69a393493fb2002b4a53188b67-0.csv\n",
      "Converted /Users/sauhardsharma/Desktop/DL_Project/pgm/year=1999/9b5cbc69a393493fb2002b4a53188b67-0.parquet to /Users/sauhardsharma/Desktop/DL_Project/csv/year=1999_9b5cbc69a393493fb2002b4a53188b67-0.csv\n",
      "Converted /Users/sauhardsharma/Desktop/DL_Project/pgm/year=2003/9b5cbc69a393493fb2002b4a53188b67-0.parquet to /Users/sauhardsharma/Desktop/DL_Project/csv/year=2003_9b5cbc69a393493fb2002b4a53188b67-0.csv\n",
      "Converted /Users/sauhardsharma/Desktop/DL_Project/pgm/year=2004/9b5cbc69a393493fb2002b4a53188b67-0.parquet to /Users/sauhardsharma/Desktop/DL_Project/csv/year=2004_9b5cbc69a393493fb2002b4a53188b67-0.csv\n",
      "Converted /Users/sauhardsharma/Desktop/DL_Project/pgm/year=2005/9b5cbc69a393493fb2002b4a53188b67-0.parquet to /Users/sauhardsharma/Desktop/DL_Project/csv/year=2005_9b5cbc69a393493fb2002b4a53188b67-0.csv\n",
      "Converted /Users/sauhardsharma/Desktop/DL_Project/pgm/year=2002/9b5cbc69a393493fb2002b4a53188b67-0.parquet to /Users/sauhardsharma/Desktop/DL_Project/csv/year=2002_9b5cbc69a393493fb2002b4a53188b67-0.csv\n",
      "Converted /Users/sauhardsharma/Desktop/DL_Project/pgm/year=2020/feat_pgm_2020.parquet to /Users/sauhardsharma/Desktop/DL_Project/csv/year=2020_feat_pgm_2020.csv\n",
      "Converted /Users/sauhardsharma/Desktop/DL_Project/pgm/year=2020/9b5cbc69a393493fb2002b4a53188b67-0.parquet to /Users/sauhardsharma/Desktop/DL_Project/csv/year=2020_9b5cbc69a393493fb2002b4a53188b67-0.csv\n",
      "Converted /Users/sauhardsharma/Desktop/DL_Project/pgm/year=2018/9b5cbc69a393493fb2002b4a53188b67-0.parquet to /Users/sauhardsharma/Desktop/DL_Project/csv/year=2018_9b5cbc69a393493fb2002b4a53188b67-0.csv\n",
      "Converted /Users/sauhardsharma/Desktop/DL_Project/pgm/year=2011/9b5cbc69a393493fb2002b4a53188b67-0.parquet to /Users/sauhardsharma/Desktop/DL_Project/csv/year=2011_9b5cbc69a393493fb2002b4a53188b67-0.csv\n",
      "Converted /Users/sauhardsharma/Desktop/DL_Project/pgm/year=2016/9b5cbc69a393493fb2002b4a53188b67-0.parquet to /Users/sauhardsharma/Desktop/DL_Project/csv/year=2016_9b5cbc69a393493fb2002b4a53188b67-0.csv\n",
      "Converted /Users/sauhardsharma/Desktop/DL_Project/pgm/year=2017/9b5cbc69a393493fb2002b4a53188b67-0.parquet to /Users/sauhardsharma/Desktop/DL_Project/csv/year=2017_9b5cbc69a393493fb2002b4a53188b67-0.csv\n",
      "Converted /Users/sauhardsharma/Desktop/DL_Project/pgm/year=2010/9b5cbc69a393493fb2002b4a53188b67-0.parquet to /Users/sauhardsharma/Desktop/DL_Project/csv/year=2010_9b5cbc69a393493fb2002b4a53188b67-0.csv\n",
      "Converted /Users/sauhardsharma/Desktop/DL_Project/pgm/year=2019/9b5cbc69a393493fb2002b4a53188b67-0.parquet to /Users/sauhardsharma/Desktop/DL_Project/csv/year=2019_9b5cbc69a393493fb2002b4a53188b67-0.csv\n",
      "Converted /Users/sauhardsharma/Desktop/DL_Project/pgm/year=2021/feat_pgm_2021.parquet to /Users/sauhardsharma/Desktop/DL_Project/csv/year=2021_feat_pgm_2021.csv\n",
      "Converted /Users/sauhardsharma/Desktop/DL_Project/pgm/year=1995/9b5cbc69a393493fb2002b4a53188b67-0.parquet to /Users/sauhardsharma/Desktop/DL_Project/csv/year=1995_9b5cbc69a393493fb2002b4a53188b67-0.csv\n",
      "Converted /Users/sauhardsharma/Desktop/DL_Project/pgm/year=1992/9b5cbc69a393493fb2002b4a53188b67-0.parquet to /Users/sauhardsharma/Desktop/DL_Project/csv/year=1992_9b5cbc69a393493fb2002b4a53188b67-0.csv\n",
      "Converted /Users/sauhardsharma/Desktop/DL_Project/pgm/year=1993/9b5cbc69a393493fb2002b4a53188b67-0.parquet to /Users/sauhardsharma/Desktop/DL_Project/csv/year=1993_9b5cbc69a393493fb2002b4a53188b67-0.csv\n",
      "Converted /Users/sauhardsharma/Desktop/DL_Project/pgm/year=1994/9b5cbc69a393493fb2002b4a53188b67-0.parquet to /Users/sauhardsharma/Desktop/DL_Project/csv/year=1994_9b5cbc69a393493fb2002b4a53188b67-0.csv\n",
      "Converted /Users/sauhardsharma/Desktop/DL_Project/pgm/year=2007/9b5cbc69a393493fb2002b4a53188b67-0.parquet to /Users/sauhardsharma/Desktop/DL_Project/csv/year=2007_9b5cbc69a393493fb2002b4a53188b67-0.csv\n",
      "Converted /Users/sauhardsharma/Desktop/DL_Project/pgm/year=2000/9b5cbc69a393493fb2002b4a53188b67-0.parquet to /Users/sauhardsharma/Desktop/DL_Project/csv/year=2000_9b5cbc69a393493fb2002b4a53188b67-0.csv\n",
      "Converted /Users/sauhardsharma/Desktop/DL_Project/pgm/year=2009/9b5cbc69a393493fb2002b4a53188b67-0.parquet to /Users/sauhardsharma/Desktop/DL_Project/csv/year=2009_9b5cbc69a393493fb2002b4a53188b67-0.csv\n",
      "Converted /Users/sauhardsharma/Desktop/DL_Project/pgm/year=2008/9b5cbc69a393493fb2002b4a53188b67-0.parquet to /Users/sauhardsharma/Desktop/DL_Project/csv/year=2008_9b5cbc69a393493fb2002b4a53188b67-0.csv\n",
      "Converted /Users/sauhardsharma/Desktop/DL_Project/pgm/year=2001/9b5cbc69a393493fb2002b4a53188b67-0.parquet to /Users/sauhardsharma/Desktop/DL_Project/csv/year=2001_9b5cbc69a393493fb2002b4a53188b67-0.csv\n",
      "Converted /Users/sauhardsharma/Desktop/DL_Project/pgm/year=2006/9b5cbc69a393493fb2002b4a53188b67-0.parquet to /Users/sauhardsharma/Desktop/DL_Project/csv/year=2006_9b5cbc69a393493fb2002b4a53188b67-0.csv\n",
      "Converted /Users/sauhardsharma/Desktop/DL_Project/pgm/year=2015/9b5cbc69a393493fb2002b4a53188b67-0.parquet to /Users/sauhardsharma/Desktop/DL_Project/csv/year=2015_9b5cbc69a393493fb2002b4a53188b67-0.csv\n",
      "Converted /Users/sauhardsharma/Desktop/DL_Project/pgm/year=2012/9b5cbc69a393493fb2002b4a53188b67-0.parquet to /Users/sauhardsharma/Desktop/DL_Project/csv/year=2012_9b5cbc69a393493fb2002b4a53188b67-0.csv\n",
      "Converted /Users/sauhardsharma/Desktop/DL_Project/pgm/year=2013/9b5cbc69a393493fb2002b4a53188b67-0.parquet to /Users/sauhardsharma/Desktop/DL_Project/csv/year=2013_9b5cbc69a393493fb2002b4a53188b67-0.csv\n",
      "Converted /Users/sauhardsharma/Desktop/DL_Project/pgm/year=2014/9b5cbc69a393493fb2002b4a53188b67-0.parquet to /Users/sauhardsharma/Desktop/DL_Project/csv/year=2014_9b5cbc69a393493fb2002b4a53188b67-0.csv\n"
     ]
    }
   ],
   "source": [
    "if __name__ == '__main__':\n",
    "    convert_parquet_to_csv()"
   ]
  },
  {
   "cell_type": "code",
   "execution_count": 3,
   "metadata": {},
   "outputs": [],
   "source": [
    "from tqdm import tqdm"
   ]
  },
  {
   "cell_type": "code",
   "execution_count": 9,
   "metadata": {},
   "outputs": [
    {
     "name": "stderr",
     "output_type": "stream",
     "text": [
      "100%|██████████| 31/31 [02:29<00:00,  4.82s/it]\n"
     ]
    },
    {
     "data": {
      "text/html": [
       "<div>\n",
       "<style scoped>\n",
       "    .dataframe tbody tr th:only-of-type {\n",
       "        vertical-align: middle;\n",
       "    }\n",
       "\n",
       "    .dataframe tbody tr th {\n",
       "        vertical-align: top;\n",
       "    }\n",
       "\n",
       "    .dataframe thead th {\n",
       "        text-align: right;\n",
       "    }\n",
       "</style>\n",
       "<table border=\"1\" class=\"dataframe\">\n",
       "  <thead>\n",
       "    <tr style=\"text-align: right;\">\n",
       "      <th></th>\n",
       "      <th>month_id</th>\n",
       "      <th>priogrid_gid</th>\n",
       "      <th>ged_sb</th>\n",
       "      <th>ged_os</th>\n",
       "      <th>ged_ns</th>\n",
       "      <th>ln_pop_gpw_sum</th>\n",
       "      <th>decay_ged_sb_1</th>\n",
       "      <th>decay_ged_sb_25</th>\n",
       "      <th>decay_ged_os_1</th>\n",
       "      <th>decay_ged_sb_5</th>\n",
       "      <th>...</th>\n",
       "      <th>treelag_1_os</th>\n",
       "      <th>treelag_2_ns</th>\n",
       "      <th>treelag_2_os</th>\n",
       "      <th>sptime_dist_k1_ged_os</th>\n",
       "      <th>sptime_dist_k1_ged_ns</th>\n",
       "      <th>sptime_dist_k10_ged_os</th>\n",
       "      <th>sptime_dist_k10_ged_ns</th>\n",
       "      <th>sptime_dist_k001_ged_os</th>\n",
       "      <th>sptime_dist_k001_ged_ns</th>\n",
       "      <th>month</th>\n",
       "    </tr>\n",
       "  </thead>\n",
       "  <tbody>\n",
       "    <tr>\n",
       "      <th>0</th>\n",
       "      <td>433</td>\n",
       "      <td>62356</td>\n",
       "      <td>0.0</td>\n",
       "      <td>0.0</td>\n",
       "      <td>0.0</td>\n",
       "      <td>0.000000</td>\n",
       "      <td>0.000004</td>\n",
       "      <td>0.000004</td>\n",
       "      <td>0.000004</td>\n",
       "      <td>1.455192e-11</td>\n",
       "      <td>...</td>\n",
       "      <td>3.985346</td>\n",
       "      <td>0.019056</td>\n",
       "      <td>0.027109</td>\n",
       "      <td>35.608988</td>\n",
       "      <td>45.915684</td>\n",
       "      <td>44.322680</td>\n",
       "      <td>54.664888</td>\n",
       "      <td>17.019060</td>\n",
       "      <td>17.497774</td>\n",
       "      <td>1</td>\n",
       "    </tr>\n",
       "    <tr>\n",
       "      <th>1</th>\n",
       "      <td>433</td>\n",
       "      <td>79599</td>\n",
       "      <td>0.0</td>\n",
       "      <td>0.0</td>\n",
       "      <td>0.0</td>\n",
       "      <td>9.145198</td>\n",
       "      <td>0.000004</td>\n",
       "      <td>0.000004</td>\n",
       "      <td>0.000004</td>\n",
       "      <td>1.455192e-11</td>\n",
       "      <td>...</td>\n",
       "      <td>5.488608</td>\n",
       "      <td>0.031845</td>\n",
       "      <td>0.050813</td>\n",
       "      <td>29.736341</td>\n",
       "      <td>35.174565</td>\n",
       "      <td>33.049206</td>\n",
       "      <td>41.584252</td>\n",
       "      <td>2.814765</td>\n",
       "      <td>2.206377</td>\n",
       "      <td>1</td>\n",
       "    </tr>\n",
       "    <tr>\n",
       "      <th>2</th>\n",
       "      <td>433</td>\n",
       "      <td>79600</td>\n",
       "      <td>0.0</td>\n",
       "      <td>0.0</td>\n",
       "      <td>0.0</td>\n",
       "      <td>8.394584</td>\n",
       "      <td>0.000004</td>\n",
       "      <td>0.000004</td>\n",
       "      <td>0.000004</td>\n",
       "      <td>1.455192e-11</td>\n",
       "      <td>...</td>\n",
       "      <td>5.488975</td>\n",
       "      <td>0.031858</td>\n",
       "      <td>0.050815</td>\n",
       "      <td>29.605743</td>\n",
       "      <td>35.064227</td>\n",
       "      <td>32.901368</td>\n",
       "      <td>41.743263</td>\n",
       "      <td>2.858828</td>\n",
       "      <td>2.370253</td>\n",
       "      <td>1</td>\n",
       "    </tr>\n",
       "    <tr>\n",
       "      <th>3</th>\n",
       "      <td>433</td>\n",
       "      <td>79601</td>\n",
       "      <td>0.0</td>\n",
       "      <td>0.0</td>\n",
       "      <td>0.0</td>\n",
       "      <td>9.903443</td>\n",
       "      <td>0.000004</td>\n",
       "      <td>0.000004</td>\n",
       "      <td>0.000004</td>\n",
       "      <td>1.455192e-11</td>\n",
       "      <td>...</td>\n",
       "      <td>5.488996</td>\n",
       "      <td>0.031868</td>\n",
       "      <td>0.050813</td>\n",
       "      <td>29.483046</td>\n",
       "      <td>34.960692</td>\n",
       "      <td>32.760495</td>\n",
       "      <td>41.907637</td>\n",
       "      <td>2.987122</td>\n",
       "      <td>2.620706</td>\n",
       "      <td>1</td>\n",
       "    </tr>\n",
       "    <tr>\n",
       "      <th>4</th>\n",
       "      <td>433</td>\n",
       "      <td>80317</td>\n",
       "      <td>0.0</td>\n",
       "      <td>0.0</td>\n",
       "      <td>0.0</td>\n",
       "      <td>12.290978</td>\n",
       "      <td>0.000004</td>\n",
       "      <td>0.000004</td>\n",
       "      <td>0.000004</td>\n",
       "      <td>1.455192e-11</td>\n",
       "      <td>...</td>\n",
       "      <td>5.535628</td>\n",
       "      <td>0.032332</td>\n",
       "      <td>0.051720</td>\n",
       "      <td>29.563491</td>\n",
       "      <td>35.014283</td>\n",
       "      <td>32.893768</td>\n",
       "      <td>40.804412</td>\n",
       "      <td>2.696757</td>\n",
       "      <td>2.148977</td>\n",
       "      <td>1</td>\n",
       "    </tr>\n",
       "    <tr>\n",
       "      <th>...</th>\n",
       "      <td>...</td>\n",
       "      <td>...</td>\n",
       "      <td>...</td>\n",
       "      <td>...</td>\n",
       "      <td>...</td>\n",
       "      <td>...</td>\n",
       "      <td>...</td>\n",
       "      <td>...</td>\n",
       "      <td>...</td>\n",
       "      <td>...</td>\n",
       "      <td>...</td>\n",
       "      <td>...</td>\n",
       "      <td>...</td>\n",
       "      <td>...</td>\n",
       "      <td>...</td>\n",
       "      <td>...</td>\n",
       "      <td>...</td>\n",
       "      <td>...</td>\n",
       "      <td>...</td>\n",
       "      <td>...</td>\n",
       "      <td>...</td>\n",
       "    </tr>\n",
       "    <tr>\n",
       "      <th>4850695</th>\n",
       "      <td>456</td>\n",
       "      <td>190496</td>\n",
       "      <td>0.0</td>\n",
       "      <td>0.0</td>\n",
       "      <td>0.0</td>\n",
       "      <td>10.408626</td>\n",
       "      <td>0.000002</td>\n",
       "      <td>0.000002</td>\n",
       "      <td>0.000002</td>\n",
       "      <td>3.854304e-12</td>\n",
       "      <td>...</td>\n",
       "      <td>2.690815</td>\n",
       "      <td>0.855021</td>\n",
       "      <td>0.048690</td>\n",
       "      <td>11.090537</td>\n",
       "      <td>10.547512</td>\n",
       "      <td>11.661904</td>\n",
       "      <td>10.547512</td>\n",
       "      <td>1.418485</td>\n",
       "      <td>10.404345</td>\n",
       "      <td>12</td>\n",
       "    </tr>\n",
       "    <tr>\n",
       "      <th>4850696</th>\n",
       "      <td>456</td>\n",
       "      <td>190507</td>\n",
       "      <td>0.0</td>\n",
       "      <td>0.0</td>\n",
       "      <td>0.0</td>\n",
       "      <td>6.647283</td>\n",
       "      <td>0.000002</td>\n",
       "      <td>0.000002</td>\n",
       "      <td>0.000002</td>\n",
       "      <td>3.854304e-12</td>\n",
       "      <td>...</td>\n",
       "      <td>2.952080</td>\n",
       "      <td>2.211546</td>\n",
       "      <td>0.076720</td>\n",
       "      <td>7.433034</td>\n",
       "      <td>6.519202</td>\n",
       "      <td>7.433034</td>\n",
       "      <td>6.519202</td>\n",
       "      <td>2.562733</td>\n",
       "      <td>6.519202</td>\n",
       "      <td>12</td>\n",
       "    </tr>\n",
       "    <tr>\n",
       "      <th>4850697</th>\n",
       "      <td>456</td>\n",
       "      <td>190508</td>\n",
       "      <td>0.0</td>\n",
       "      <td>0.0</td>\n",
       "      <td>0.0</td>\n",
       "      <td>4.562102</td>\n",
       "      <td>0.000002</td>\n",
       "      <td>0.000002</td>\n",
       "      <td>0.000002</td>\n",
       "      <td>3.854304e-12</td>\n",
       "      <td>...</td>\n",
       "      <td>2.972657</td>\n",
       "      <td>2.347626</td>\n",
       "      <td>0.079592</td>\n",
       "      <td>7.106335</td>\n",
       "      <td>6.264982</td>\n",
       "      <td>7.106335</td>\n",
       "      <td>6.264982</td>\n",
       "      <td>2.705106</td>\n",
       "      <td>6.264982</td>\n",
       "      <td>12</td>\n",
       "    </tr>\n",
       "    <tr>\n",
       "      <th>4850698</th>\n",
       "      <td>456</td>\n",
       "      <td>190510</td>\n",
       "      <td>0.0</td>\n",
       "      <td>0.0</td>\n",
       "      <td>0.0</td>\n",
       "      <td>7.619576</td>\n",
       "      <td>0.000002</td>\n",
       "      <td>0.000002</td>\n",
       "      <td>0.000002</td>\n",
       "      <td>3.854304e-12</td>\n",
       "      <td>...</td>\n",
       "      <td>3.010577</td>\n",
       "      <td>2.625784</td>\n",
       "      <td>0.085243</td>\n",
       "      <td>6.519202</td>\n",
       "      <td>5.852350</td>\n",
       "      <td>6.519202</td>\n",
       "      <td>5.852350</td>\n",
       "      <td>3.212102</td>\n",
       "      <td>5.852350</td>\n",
       "      <td>12</td>\n",
       "    </tr>\n",
       "    <tr>\n",
       "      <th>4850699</th>\n",
       "      <td>456</td>\n",
       "      <td>190511</td>\n",
       "      <td>0.0</td>\n",
       "      <td>0.0</td>\n",
       "      <td>0.0</td>\n",
       "      <td>7.596084</td>\n",
       "      <td>0.000002</td>\n",
       "      <td>0.000002</td>\n",
       "      <td>0.000002</td>\n",
       "      <td>3.854304e-12</td>\n",
       "      <td>...</td>\n",
       "      <td>3.027040</td>\n",
       "      <td>2.757025</td>\n",
       "      <td>0.087892</td>\n",
       "      <td>6.264982</td>\n",
       "      <td>5.700877</td>\n",
       "      <td>6.264982</td>\n",
       "      <td>5.700877</td>\n",
       "      <td>3.545081</td>\n",
       "      <td>5.700877</td>\n",
       "      <td>12</td>\n",
       "    </tr>\n",
       "  </tbody>\n",
       "</table>\n",
       "<p>4850700 rows × 107 columns</p>\n",
       "</div>"
      ],
      "text/plain": [
       "         month_id  priogrid_gid  ged_sb  ged_os  ged_ns  ln_pop_gpw_sum  \\\n",
       "0             433         62356     0.0     0.0     0.0        0.000000   \n",
       "1             433         79599     0.0     0.0     0.0        9.145198   \n",
       "2             433         79600     0.0     0.0     0.0        8.394584   \n",
       "3             433         79601     0.0     0.0     0.0        9.903443   \n",
       "4             433         80317     0.0     0.0     0.0       12.290978   \n",
       "...           ...           ...     ...     ...     ...             ...   \n",
       "4850695       456        190496     0.0     0.0     0.0       10.408626   \n",
       "4850696       456        190507     0.0     0.0     0.0        6.647283   \n",
       "4850697       456        190508     0.0     0.0     0.0        4.562102   \n",
       "4850698       456        190510     0.0     0.0     0.0        7.619576   \n",
       "4850699       456        190511     0.0     0.0     0.0        7.596084   \n",
       "\n",
       "         decay_ged_sb_1  decay_ged_sb_25  decay_ged_os_1  decay_ged_sb_5  ...  \\\n",
       "0              0.000004         0.000004        0.000004    1.455192e-11  ...   \n",
       "1              0.000004         0.000004        0.000004    1.455192e-11  ...   \n",
       "2              0.000004         0.000004        0.000004    1.455192e-11  ...   \n",
       "3              0.000004         0.000004        0.000004    1.455192e-11  ...   \n",
       "4              0.000004         0.000004        0.000004    1.455192e-11  ...   \n",
       "...                 ...              ...             ...             ...  ...   \n",
       "4850695        0.000002         0.000002        0.000002    3.854304e-12  ...   \n",
       "4850696        0.000002         0.000002        0.000002    3.854304e-12  ...   \n",
       "4850697        0.000002         0.000002        0.000002    3.854304e-12  ...   \n",
       "4850698        0.000002         0.000002        0.000002    3.854304e-12  ...   \n",
       "4850699        0.000002         0.000002        0.000002    3.854304e-12  ...   \n",
       "\n",
       "         treelag_1_os  treelag_2_ns  treelag_2_os  sptime_dist_k1_ged_os  \\\n",
       "0            3.985346      0.019056      0.027109              35.608988   \n",
       "1            5.488608      0.031845      0.050813              29.736341   \n",
       "2            5.488975      0.031858      0.050815              29.605743   \n",
       "3            5.488996      0.031868      0.050813              29.483046   \n",
       "4            5.535628      0.032332      0.051720              29.563491   \n",
       "...               ...           ...           ...                    ...   \n",
       "4850695      2.690815      0.855021      0.048690              11.090537   \n",
       "4850696      2.952080      2.211546      0.076720               7.433034   \n",
       "4850697      2.972657      2.347626      0.079592               7.106335   \n",
       "4850698      3.010577      2.625784      0.085243               6.519202   \n",
       "4850699      3.027040      2.757025      0.087892               6.264982   \n",
       "\n",
       "         sptime_dist_k1_ged_ns  sptime_dist_k10_ged_os  \\\n",
       "0                    45.915684               44.322680   \n",
       "1                    35.174565               33.049206   \n",
       "2                    35.064227               32.901368   \n",
       "3                    34.960692               32.760495   \n",
       "4                    35.014283               32.893768   \n",
       "...                        ...                     ...   \n",
       "4850695              10.547512               11.661904   \n",
       "4850696               6.519202                7.433034   \n",
       "4850697               6.264982                7.106335   \n",
       "4850698               5.852350                6.519202   \n",
       "4850699               5.700877                6.264982   \n",
       "\n",
       "         sptime_dist_k10_ged_ns  sptime_dist_k001_ged_os  \\\n",
       "0                     54.664888                17.019060   \n",
       "1                     41.584252                 2.814765   \n",
       "2                     41.743263                 2.858828   \n",
       "3                     41.907637                 2.987122   \n",
       "4                     40.804412                 2.696757   \n",
       "...                         ...                      ...   \n",
       "4850695               10.547512                 1.418485   \n",
       "4850696                6.519202                 2.562733   \n",
       "4850697                6.264982                 2.705106   \n",
       "4850698                5.852350                 3.212102   \n",
       "4850699                5.700877                 3.545081   \n",
       "\n",
       "         sptime_dist_k001_ged_ns  month  \n",
       "0                      17.497774      1  \n",
       "1                       2.206377      1  \n",
       "2                       2.370253      1  \n",
       "3                       2.620706      1  \n",
       "4                       2.148977      1  \n",
       "...                          ...    ...  \n",
       "4850695                10.404345     12  \n",
       "4850696                 6.519202     12  \n",
       "4850697                 6.264982     12  \n",
       "4850698                 5.852350     12  \n",
       "4850699                 5.700877     12  \n",
       "\n",
       "[4850700 rows x 107 columns]"
      ]
     },
     "execution_count": 9,
     "metadata": {},
     "output_type": "execute_result"
    }
   ],
   "source": [
    "# Reading all the csv files and appending them to a single dataframe\n",
    "def read_all_csv_files():\n",
    "    cwd = os.getcwd()\n",
    "    # path to the csv folder\n",
    "    csv_folder = os.path.join(cwd, 'csv')\n",
    "    csv_files = [f.path for f in os.scandir(csv_folder) if f.is_file() and f.name.endswith('.csv')]\n",
    "    df = pd.DataFrame()\n",
    "    for csv_file in tqdm(csv_files):\n",
    "        temp_df = pd.read_csv(csv_file)\n",
    "        df = pd.concat([df, temp_df])\n",
    "    df.reset_index(drop=True, inplace=True)\n",
    "    return df\n",
    "\n",
    "read_all_csv_files()\n"
   ]
  },
  {
   "cell_type": "markdown",
   "metadata": {},
   "source": [
    "Random Forest Classifier"
   ]
  },
  {
   "cell_type": "code",
   "execution_count": 16,
   "metadata": {},
   "outputs": [],
   "source": [
    "import os\n",
    "import pandas as pd\n",
    "from sklearn.model_selection import train_test_split\n",
    "from sklearn.ensemble import RandomForestClassifier\n",
    "from sklearn.metrics import accuracy_score"
   ]
  },
  {
   "cell_type": "code",
   "execution_count": 22,
   "metadata": {},
   "outputs": [],
   "source": [
    "from sklearn.metrics import f1_score"
   ]
  },
  {
   "cell_type": "code",
   "execution_count": 25,
   "metadata": {},
   "outputs": [],
   "source": [
    "def random_forest_benchmark(file_name):\n",
    "    cwd = os.getcwd()\n",
    "    csv_folder = os.path.join(cwd, 'csv')\n",
    "    csv_file = os.path.join(csv_folder, file_name)\n",
    "    df = pd.read_csv(csv_file)\n",
    "    X = df.drop('ged_sb', axis=1)\n",
    "    y = df['ged_sb']\n",
    "    X_train, X_test, y_train, y_test = train_test_split(X, y, test_size=0.2, random_state=42)\n",
    "    clf = RandomForestClassifier()\n",
    "    clf.fit(X_train, y_train)\n",
    "    y_pred = clf.predict(X_test)\n",
    "    accuracy = accuracy_score(y_test, y_pred)\n",
    "    f1 = f1_score(y_test, y_pred, average='macro')  # using f1 since dataset is multiclass\n",
    "    return accuracy, f1"
   ]
  },
  {
   "cell_type": "code",
   "execution_count": 26,
   "metadata": {},
   "outputs": [
    {
     "data": {
      "text/plain": [
       "(0.9985062293414696, 0.06164584036924463)"
      ]
     },
     "execution_count": 26,
     "metadata": {},
     "output_type": "execute_result"
    }
   ],
   "source": [
    "random_forest_benchmark('year=1990_9b5cbc69a393493fb2002b4a53188b67-0.csv')"
   ]
  },
  {
   "cell_type": "code",
   "execution_count": 27,
   "metadata": {},
   "outputs": [
    {
     "data": {
      "text/plain": [
       "(0.9979341469616069, 0.06423845404108561)"
      ]
     },
     "execution_count": 27,
     "metadata": {},
     "output_type": "execute_result"
    }
   ],
   "source": [
    "random_forest_benchmark('year=1995_9b5cbc69a393493fb2002b4a53188b67-0.csv')"
   ]
  },
  {
   "cell_type": "code",
   "execution_count": 28,
   "metadata": {},
   "outputs": [
    {
     "data": {
      "text/plain": [
       "(0.998093058733791, 0.07711900502598176)"
      ]
     },
     "execution_count": 28,
     "metadata": {},
     "output_type": "execute_result"
    }
   ],
   "source": [
    "random_forest_benchmark('year=2000_9b5cbc69a393493fb2002b4a53188b67-0.csv')"
   ]
  },
  {
   "cell_type": "code",
   "execution_count": 29,
   "metadata": {},
   "outputs": [
    {
     "data": {
      "text/plain": [
       "(0.9982201881515382, 0.09492063492063492)"
      ]
     },
     "execution_count": 29,
     "metadata": {},
     "output_type": "execute_result"
    }
   ],
   "source": [
    "random_forest_benchmark('year=2005_9b5cbc69a393493fb2002b4a53188b67-0.csv')"
   ]
  },
  {
   "cell_type": "markdown",
   "metadata": {},
   "source": [
    "Feature Importance"
   ]
  },
  {
   "cell_type": "code",
   "execution_count": 30,
   "metadata": {},
   "outputs": [],
   "source": [
    "def feature_importance(file_name):\n",
    "    cwd = os.getcwd()\n",
    "    csv_folder = os.path.join(cwd, 'csv')\n",
    "    csv_file = os.path.join(csv_folder, file_name)\n",
    "    df = pd.read_csv(csv_file)\n",
    "    X = df.drop('ged_sb', axis=1)\n",
    "    y = df['ged_sb']\n",
    "    clf = RandomForestClassifier()\n",
    "    clf.fit(X, y)\n",
    "    feature_importance = clf.feature_importances_\n",
    "    return feature_importance\n"
   ]
  },
  {
   "cell_type": "code",
   "execution_count": 31,
   "metadata": {},
   "outputs": [
    {
     "data": {
      "text/plain": [
       "array([3.61457516e-03, 8.28246817e-03, 2.62447734e-03, 2.60151132e-04,\n",
       "       5.92453859e-03, 1.40961588e-02, 6.14433551e-03, 5.10807933e-03,\n",
       "       9.06863634e-03, 4.18004452e-03, 4.15140306e-03, 4.40050020e-03,\n",
       "       3.40984423e-03, 4.21223515e-03, 3.83460919e-03, 3.90039213e-03,\n",
       "       3.57003536e-03, 3.30896273e-03, 2.96064441e-03, 7.47360627e-03,\n",
       "       8.55590956e-03, 6.31642176e-03, 4.32375677e-03, 4.71808127e-03,\n",
       "       4.33288570e-03, 1.91867684e-03, 1.15550757e-03, 5.36561006e-03,\n",
       "       5.40531709e-03, 4.85568055e-03, 6.86637130e-03, 4.67822600e-03,\n",
       "       6.74265208e-03, 7.74937434e-04, 4.94905978e-04, 1.49881318e-04,\n",
       "       5.39112570e-03, 0.00000000e+00, 0.00000000e+00, 0.00000000e+00,\n",
       "       0.00000000e+00, 9.16861499e-04, 7.04321136e-03, 1.88383256e-03,\n",
       "       3.48294360e-03, 4.54793937e-03, 4.30591182e-03, 6.33147358e-03,\n",
       "       6.76390412e-03, 6.81527308e-03, 1.03576379e-03, 2.84554624e-03,\n",
       "       6.28523380e-03, 4.66321982e-03, 3.58150375e-03, 4.62273333e-03,\n",
       "       6.43602602e-03, 6.45071171e-03, 6.17406060e-03, 6.58646452e-03,\n",
       "       7.41801181e-03, 8.32817359e-03, 7.98730029e-02, 6.51741237e-02,\n",
       "       1.17937705e-01, 6.66765376e-03, 3.64496488e-04, 1.61513249e-03,\n",
       "       3.12001842e-02, 1.97706691e-02, 1.42692838e-02, 3.83928954e-02,\n",
       "       1.70965242e-02, 1.62666423e-02, 2.95481495e-03, 3.34280683e-03,\n",
       "       2.39583262e-03, 3.01214422e-03, 2.17813105e-03, 1.66002622e-03,\n",
       "       2.63282823e-03, 2.14430134e-03, 2.71998758e-03, 3.18531326e-03,\n",
       "       2.40069410e-03, 2.42410230e-03, 7.67886659e-02, 7.39406600e-05,\n",
       "       1.13815955e-03, 4.14636625e-04, 1.21425440e-03, 3.22905356e-03,\n",
       "       3.88364346e-04, 1.80902225e-03, 1.13427705e-01, 7.25021434e-03,\n",
       "       8.06402061e-03, 8.17198583e-03, 8.57374775e-03, 6.67996176e-03,\n",
       "       8.87556595e-03, 7.24409769e-03, 8.95632422e-03, 8.32511445e-03,\n",
       "       7.25700224e-03, 3.34842176e-03])"
      ]
     },
     "execution_count": 31,
     "metadata": {},
     "output_type": "execute_result"
    }
   ],
   "source": [
    "feature_importance('year=1990_9b5cbc69a393493fb2002b4a53188b67-0.csv')"
   ]
  },
  {
   "cell_type": "code",
   "execution_count": 32,
   "metadata": {},
   "outputs": [],
   "source": [
    "import matplotlib.pyplot as plt"
   ]
  },
  {
   "cell_type": "code",
   "execution_count": 42,
   "metadata": {},
   "outputs": [],
   "source": [
    "def plot_feature_importance(file_name):\n",
    "    importances = feature_importance(file_name)\n",
    "    plt.bar(range(len(importances)), importances)\n",
    "    plt.xlabel('Feature Index')\n",
    "    plt.ylabel('Importance')\n",
    "    plt.title('Feature Importance')\n",
    "    plt.show()"
   ]
  },
  {
   "cell_type": "code",
   "execution_count": 43,
   "metadata": {},
   "outputs": [
    {
     "data": {
      "image/png": "[encoded data removed]",
      "text/plain": [
       "<Figure size 640x480 with 1 Axes>"
      ]
     },
     "metadata": {},
     "output_type": "display_data"
    }
   ],
   "source": [
    "plot_feature_importance('year=1990_9b5cbc69a393493fb2002b4a53188b67-0.csv')"
   ]
  },
  {
   "cell_type": "code",
   "execution_count": 44,
   "metadata": {},
   "outputs": [
    {
     "data": {
      "image/png": "[encoded data removed]",
      "text/plain": [
       "<Figure size 640x480 with 1 Axes>"
      ]
     },
     "metadata": {},
     "output_type": "display_data"
    }
   ],
   "source": [
    "plot_feature_importance('year=1995_9b5cbc69a393493fb2002b4a53188b67-0.csv')"
   ]
  },
  {
   "cell_type": "code",
   "execution_count": 45,
   "metadata": {},
   "outputs": [
    {
     "data": {
      "image/png": "[encoded data removed]",
      "text/plain": [
       "<Figure size 640x480 with 1 Axes>"
      ]
     },
     "metadata": {},
     "output_type": "display_data"
    }
   ],
   "source": [
    "plot_feature_importance('year=2020_9b5cbc69a393493fb2002b4a53188b67-0.csv')"
   ]
  },
  {
   "cell_type": "code",
   "execution_count": null,
   "metadata": {},
   "outputs": [],
   "source": []
  }
 ],
 "metadata": {
  "kernelspec": {
   "display_name": "base",
   "language": "python",
   "name": "python3"
  },
  "language_info": {
   "codemirror_mode": {
    "name": "ipython",
    "version": 3
   },
   "file_extension": ".py",
   "mimetype": "text/x-python",
   "name": "python",
   "nbconvert_exporter": "python",
   "pygments_lexer": "ipython3",
   "version": "3.9.12"
  }
 },
 "nbformat": 4,
 "nbformat_minor": 2
}
