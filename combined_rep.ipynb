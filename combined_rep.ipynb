{
 "cells": [
  {
   "cell_type": "code",
   "execution_count": null,
   "metadata": {},
   "outputs": [],
   "source": [
    "import torch\n",
    "import torch.nn as nn\n",
    "import torch.optim as optim\n",
    "from torch.utils.data import TensorDataset, DataLoader\n",
    "import pandas as pd"
   ]
  },
  {
   "cell_type": "code",
   "execution_count": null,
   "metadata": {},
   "outputs": [],
   "source": [
    "class CombinedModel(nn.Module):\n",
    "    def __init__(self, transformer_output_dim, gcn_output_dim, combined_dim, output_dim):\n",
    "        super(CombinedModel, self).__init__()\n",
    "        self.transformer_output_dim = transformer_output_dim\n",
    "        self.gcn_output_dim = gcn_output_dim\n",
    "        self.combined_dim = combined_dim\n",
    "        self.output_dim = output_dim\n",
    "        self.ff1 = nn.Linear(transformer_output_dim + gcn_output_dim, combined_dim)\n",
    "        self.activation = nn.ReLU()\n",
    "        self.ff2 = nn.Linear(combined_dim, combined_dim)\n",
    "        self.output_layer = nn.Linear(combined_dim, output_dim)\n",
    "\n",
    "    def forward(self, transformer_output, gcn_output):\n",
    "        transformer_output = transformer_output.view(-1, self.transformer_output_dim)\n",
    "        gcn_output = gcn_output.view(-1, self.gcn_output_dim)\n",
    "        combined_input = torch.cat([transformer_output, gcn_output], dim=1)\n",
    "        combined_output = self.ff1(combined_input)\n",
    "        combined_output = self.activation(combined_output)\n",
    "        combined_output = self.ff2(combined_output)\n",
    "        ged_sb = self.output_layer(combined_output)\n",
    "        return ged_sb\n",
    "\n",
    "def load_data(data_path):\n",
    "    combined_output = pd.read_csv(data_path)\n",
    "    X_transformer = transformer_model\n",
    "    X_gcn = gcn_model\n",
    "    y = torch.tensor(combined_output['ged_sb'].values.tolist())\n",
    "    return X_transformer, X_gcn, y\n",
    "\n",
    "def train(model, dataloader, criterion, optimizer, epochs):\n",
    "    for epoch in range(epochs):\n",
    "        epoch_loss = 0.0\n",
    "        for transformer_output, gcn_output, target in dataloader:\n",
    "            optimizer.zero_grad()\n",
    "            output = model(transformer_output, gcn_output)\n",
    "            loss = criterion(output, target)\n",
    "            loss.backward()\n",
    "            optimizer.step()\n",
    "            epoch_loss += loss.item()\n",
    "        print(f'Epoch {epoch+1}/{epochs}, Loss: {epoch_loss/len(dataloader)}')\n",
    "    return model"
   ]
  },
  {
   "cell_type": "code",
   "execution_count": null,
   "metadata": {},
   "outputs": [],
   "source": [
    "def main():\n",
    "    X_transformer, X_gcn, y = load_data('combined_output.csv')\n",
    "    dataset = TensorDataset(X_transformer, X_gcn, y)\n",
    "    dataloader = DataLoader(dataset, batch_size=32, shuffle=True)\n",
    "\n",
    "    model = CombinedModel(transformer_output_dim=X_transformer.shape[-1],\n",
    "                          gcn_output_dim=X_gcn.shape[-1],\n",
    "                          combined_dim=256,\n",
    "                          output_dim=1)\n",
    "\n",
    "    criterion = nn.MSELoss()\n",
    "    optimizer = optim.RMSProp(model.parameters(), lr=0.001)\n",
    "    trained_model = train(model, dataloader, criterion, optimizer, epochs=100)\n",
    "    torch.save(trained_model.state_dict(), 'combined_model.pth')\n",
    "\n",
    "if __name__ == '__main__':\n",
    "    main()"
   ]
  }
 ],
 "metadata": {
  "language_info": {
   "name": "python"
  }
 },
 "nbformat": 4,
 "nbformat_minor": 2
}
