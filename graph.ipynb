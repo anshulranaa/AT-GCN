{
 "cells": [
  {
   "cell_type": "code",
   "execution_count": 5,
   "metadata": {},
   "outputs": [
    {
     "ename": "KeyError",
     "evalue": "1990",
     "output_type": "error",
     "traceback": [
      "\u001b[0;31m---------------------------------------------------------------------------\u001b[0m",
      "\u001b[0;31mKeyError\u001b[0m                                  Traceback (most recent call last)",
      "File \u001b[0;32m/var/folders/tm/xfvbyx4n3_1dry1_pz2n5wx40000gn/T/ipykernel_42462/1692809898.py:1\u001b[0m\n\u001b[0;32m----> 1\u001b[0m \u001b[43mdataframes\u001b[49m\u001b[43m[\u001b[49m\u001b[38;5;241;43m1990\u001b[39;49m\u001b[43m]\u001b[49m\n",
      "\u001b[0;31mKeyError\u001b[0m: 1990"
     ]
    },
    {
     "ename": "KeyError",
     "evalue": "1990",
     "output_type": "error",
     "traceback": [
      "\u001b[0;31m---------------------------------------------------------------------------\u001b[0m",
      "\u001b[0;31mKeyError\u001b[0m                                  Traceback (most recent call last)",
      "Cell \u001b[0;32mIn[5], line 2\u001b[0m\n\u001b[1;32m      1\u001b[0m \u001b[38;5;28;01mimport\u001b[39;00m \u001b[38;5;21;01mpandas\u001b[39;00m \u001b[38;5;28;01mas\u001b[39;00m \u001b[38;5;21;01mpd\u001b[39;00m\n\u001b[0;32m----> 2\u001b[0m \u001b[43mget_ipython\u001b[49m\u001b[43m(\u001b[49m\u001b[43m)\u001b[49m\u001b[38;5;241;43m.\u001b[39;49m\u001b[43mrun_line_magic\u001b[49m\u001b[43m(\u001b[49m\u001b[38;5;124;43m'\u001b[39;49m\u001b[38;5;124;43mrun\u001b[39;49m\u001b[38;5;124;43m'\u001b[39;49m\u001b[43m,\u001b[49m\u001b[43m \u001b[49m\u001b[38;5;124;43m'\u001b[39;49m\u001b[38;5;124;43mpreprocessing.ipynb\u001b[39;49m\u001b[38;5;124;43m'\u001b[39;49m\u001b[43m)\u001b[49m\n",
      "File \u001b[0;32m~/Library/Python/3.11/lib/python/site-packages/IPython/core/interactiveshell.py:2414\u001b[0m, in \u001b[0;36mInteractiveShell.run_line_magic\u001b[0;34m(self, magic_name, line, _stack_depth)\u001b[0m\n\u001b[1;32m   2412\u001b[0m     kwargs[\u001b[38;5;124m'\u001b[39m\u001b[38;5;124mlocal_ns\u001b[39m\u001b[38;5;124m'\u001b[39m] \u001b[38;5;241m=\u001b[39m \u001b[38;5;28mself\u001b[39m\u001b[38;5;241m.\u001b[39mget_local_scope(stack_depth)\n\u001b[1;32m   2413\u001b[0m \u001b[38;5;28;01mwith\u001b[39;00m \u001b[38;5;28mself\u001b[39m\u001b[38;5;241m.\u001b[39mbuiltin_trap:\n\u001b[0;32m-> 2414\u001b[0m     result \u001b[38;5;241m=\u001b[39m \u001b[43mfn\u001b[49m\u001b[43m(\u001b[49m\u001b[38;5;241;43m*\u001b[39;49m\u001b[43margs\u001b[49m\u001b[43m,\u001b[49m\u001b[43m \u001b[49m\u001b[38;5;241;43m*\u001b[39;49m\u001b[38;5;241;43m*\u001b[39;49m\u001b[43mkwargs\u001b[49m\u001b[43m)\u001b[49m\n\u001b[1;32m   2416\u001b[0m \u001b[38;5;66;03m# The code below prevents the output from being displayed\u001b[39;00m\n\u001b[1;32m   2417\u001b[0m \u001b[38;5;66;03m# when using magics with decodator @output_can_be_silenced\u001b[39;00m\n\u001b[1;32m   2418\u001b[0m \u001b[38;5;66;03m# when the last Python token in the expression is a ';'.\u001b[39;00m\n\u001b[1;32m   2419\u001b[0m \u001b[38;5;28;01mif\u001b[39;00m \u001b[38;5;28mgetattr\u001b[39m(fn, magic\u001b[38;5;241m.\u001b[39mMAGIC_OUTPUT_CAN_BE_SILENCED, \u001b[38;5;28;01mFalse\u001b[39;00m):\n",
      "File \u001b[0;32m~/Library/Python/3.11/lib/python/site-packages/IPython/core/magics/execution.py:722\u001b[0m, in \u001b[0;36mExecutionMagics.run\u001b[0;34m(self, parameter_s, runner, file_finder)\u001b[0m\n\u001b[1;32m    720\u001b[0m     \u001b[38;5;28;01mwith\u001b[39;00m preserve_keys(\u001b[38;5;28mself\u001b[39m\u001b[38;5;241m.\u001b[39mshell\u001b[38;5;241m.\u001b[39muser_ns, \u001b[38;5;124m'\u001b[39m\u001b[38;5;124m__file__\u001b[39m\u001b[38;5;124m'\u001b[39m):\n\u001b[1;32m    721\u001b[0m         \u001b[38;5;28mself\u001b[39m\u001b[38;5;241m.\u001b[39mshell\u001b[38;5;241m.\u001b[39muser_ns[\u001b[38;5;124m'\u001b[39m\u001b[38;5;124m__file__\u001b[39m\u001b[38;5;124m'\u001b[39m] \u001b[38;5;241m=\u001b[39m filename\n\u001b[0;32m--> 722\u001b[0m         \u001b[38;5;28;43mself\u001b[39;49m\u001b[38;5;241;43m.\u001b[39;49m\u001b[43mshell\u001b[49m\u001b[38;5;241;43m.\u001b[39;49m\u001b[43msafe_execfile_ipy\u001b[49m\u001b[43m(\u001b[49m\u001b[43mfilename\u001b[49m\u001b[43m,\u001b[49m\u001b[43m \u001b[49m\u001b[43mraise_exceptions\u001b[49m\u001b[38;5;241;43m=\u001b[39;49m\u001b[38;5;28;43;01mTrue\u001b[39;49;00m\u001b[43m)\u001b[49m\n\u001b[1;32m    723\u001b[0m     \u001b[38;5;28;01mreturn\u001b[39;00m\n\u001b[1;32m    725\u001b[0m \u001b[38;5;66;03m# Control the response to exit() calls made by the script being run\u001b[39;00m\n",
      "File \u001b[0;32m~/Library/Python/3.11/lib/python/site-packages/IPython/core/interactiveshell.py:2936\u001b[0m, in \u001b[0;36mInteractiveShell.safe_execfile_ipy\u001b[0;34m(self, fname, shell_futures, raise_exceptions)\u001b[0m\n\u001b[1;32m   2934\u001b[0m result \u001b[38;5;241m=\u001b[39m \u001b[38;5;28mself\u001b[39m\u001b[38;5;241m.\u001b[39mrun_cell(cell, silent\u001b[38;5;241m=\u001b[39m\u001b[38;5;28;01mTrue\u001b[39;00m, shell_futures\u001b[38;5;241m=\u001b[39mshell_futures)\n\u001b[1;32m   2935\u001b[0m \u001b[38;5;28;01mif\u001b[39;00m raise_exceptions:\n\u001b[0;32m-> 2936\u001b[0m     \u001b[43mresult\u001b[49m\u001b[38;5;241;43m.\u001b[39;49m\u001b[43mraise_error\u001b[49m\u001b[43m(\u001b[49m\u001b[43m)\u001b[49m\n\u001b[1;32m   2937\u001b[0m \u001b[38;5;28;01melif\u001b[39;00m \u001b[38;5;129;01mnot\u001b[39;00m result\u001b[38;5;241m.\u001b[39msuccess:\n\u001b[1;32m   2938\u001b[0m     \u001b[38;5;28;01mbreak\u001b[39;00m\n",
      "File \u001b[0;32m~/Library/Python/3.11/lib/python/site-packages/IPython/core/interactiveshell.py:268\u001b[0m, in \u001b[0;36mExecutionResult.raise_error\u001b[0;34m(self)\u001b[0m\n\u001b[1;32m    266\u001b[0m     \u001b[38;5;28;01mraise\u001b[39;00m \u001b[38;5;28mself\u001b[39m\u001b[38;5;241m.\u001b[39merror_before_exec\n\u001b[1;32m    267\u001b[0m \u001b[38;5;28;01mif\u001b[39;00m \u001b[38;5;28mself\u001b[39m\u001b[38;5;241m.\u001b[39merror_in_exec \u001b[38;5;129;01mis\u001b[39;00m \u001b[38;5;129;01mnot\u001b[39;00m \u001b[38;5;28;01mNone\u001b[39;00m:\n\u001b[0;32m--> 268\u001b[0m     \u001b[38;5;28;01mraise\u001b[39;00m \u001b[38;5;28mself\u001b[39m\u001b[38;5;241m.\u001b[39merror_in_exec\n",
      "    \u001b[0;31m[... skipping hidden 1 frame]\u001b[0m\n",
      "File \u001b[0;32m/var/folders/tm/xfvbyx4n3_1dry1_pz2n5wx40000gn/T/ipykernel_42462/1692809898.py:1\u001b[0m\n\u001b[0;32m----> 1\u001b[0m \u001b[43mdataframes\u001b[49m\u001b[43m[\u001b[49m\u001b[38;5;241;43m1990\u001b[39;49m\u001b[43m]\u001b[49m\n",
      "\u001b[0;31mKeyError\u001b[0m: 1990"
     ]
    }
   ],
   "source": [
    "import pandas as pd\n",
    "%run preprocessing.ipynb"
   ]
  },
  {
   "cell_type": "code",
   "execution_count": 4,
   "metadata": {},
   "outputs": [
    {
     "ename": "NameError",
     "evalue": "name 'master_df' is not defined",
     "output_type": "error",
     "traceback": [
      "\u001b[0;31m---------------------------------------------------------------------------\u001b[0m",
      "\u001b[0;31mNameError\u001b[0m                                 Traceback (most recent call last)",
      "Cell \u001b[0;32mIn[4], line 12\u001b[0m\n\u001b[1;32m      9\u001b[0m         month_id_map[month_id] \u001b[38;5;241m=\u001b[39m datetime(year, month, \u001b[38;5;241m1\u001b[39m)\n\u001b[1;32m     11\u001b[0m \u001b[38;5;66;03m# Convert month_id to datetime\u001b[39;00m\n\u001b[0;32m---> 12\u001b[0m master_df[\u001b[38;5;124m'\u001b[39m\u001b[38;5;124mdate\u001b[39m\u001b[38;5;124m'\u001b[39m] \u001b[38;5;241m=\u001b[39m \u001b[43mmaster_df\u001b[49m[\u001b[38;5;124m'\u001b[39m\u001b[38;5;124mmonth_id\u001b[39m\u001b[38;5;124m'\u001b[39m]\u001b[38;5;241m.\u001b[39mmap(month_id_map)\n\u001b[1;32m     15\u001b[0m master_df\n",
      "\u001b[0;31mNameError\u001b[0m: name 'master_df' is not defined"
     ]
    }
   ],
   "source": [
    "import pandas as pd\n",
    "from datetime import datetime\n",
    "\n",
    "# Create a dictionary to map month_id to month and year\n",
    "month_id_map = {}\n",
    "for year in range(1990, 2022):\n",
    "    for month in range(1, 13):\n",
    "        month_id = (year - 1990) * 12 + month + 120\n",
    "        month_id_map[month_id] = datetime(year, month, 1)\n",
    "\n",
    "# Convert month_id to datetime\n",
    "master_df['date'] = master_df['month_id'].map(month_id_map)\n",
    "\n",
    "\n",
    "master_df"
   ]
  },
  {
   "cell_type": "code",
   "execution_count": 1,
   "metadata": {},
   "outputs": [
    {
     "ename": "NameError",
     "evalue": "name 'master_df' is not defined",
     "output_type": "error",
     "traceback": [
      "\u001b[0;31m---------------------------------------------------------------------------\u001b[0m",
      "\u001b[0;31mNameError\u001b[0m                                 Traceback (most recent call last)",
      "Cell \u001b[0;32mIn[1], line 1\u001b[0m\n\u001b[0;32m----> 1\u001b[0m master_df \u001b[38;5;241m=\u001b[39m \u001b[43mmaster_df\u001b[49m\u001b[38;5;241m.\u001b[39mhead\n\u001b[1;32m      2\u001b[0m master_df\u001b[38;5;241m.\u001b[39mtocsv(\u001b[38;5;124m\"\u001b[39m\u001b[38;5;124mtest.csv\u001b[39m\u001b[38;5;124m\"\u001b[39m)\n",
      "\u001b[0;31mNameError\u001b[0m: name 'master_df' is not defined"
     ]
    }
   ],
   "source": [
    "master_df = master_df.head\n",
    "master_df.tocsv(\"test.csv\")"
   ]
  },
  {
   "cell_type": "code",
   "execution_count": 3,
   "metadata": {},
   "outputs": [],
   "source": [
    "import networkx as nx\n",
    "import pandas as pd\n",
    "\n",
    "# Graph implementation assuming a no neighborhood sampling and no sliding window approach \n",
    "def create_graph(master_df):\n",
    "    graph = nx.Graph()\n",
    "    unique_priogrid_gids = master_df['priogrid_gid'].unique()\n",
    "\n",
    "    for priogrid_gid in unique_priogrid_gids:\n",
    "        node_features = master_df[master_df['priogrid_gid'] == priogrid_gid].drop(['priogrid_gid'], axis=1).to_dict('records')[0]\n",
    "        graph.add_node(priogrid_gid, **node_features)\n",
    "\n",
    "    # Add edges connecting each node to its 8 immediate neighbors\n",
    "    for node in graph.nodes():\n",
    "        row, col = node // 100, node % 100\n",
    "        neighbors = []\n",
    "\n",
    "        for dr in [-1, 0, 1]:\n",
    "            for dc in [-1, 0, 1]:\n",
    "                if dr == 0 and dc == 0:\n",
    "                    continue\n",
    "                neighbor_row = row + dr\n",
    "                neighbor_col = col + dc\n",
    "                neighbor_priogrid_gid = neighbor_row * 100 + neighbor_col\n",
    "                if neighbor_priogrid_gid in graph.nodes():\n",
    "                    neighbors.append(neighbor_priogrid_gid)\n",
    "\n",
    "        for neighbor in neighbors:\n",
    "            graph.add_edge(node, neighbor)\n",
    "\n",
    "    return graph\n",
    "\n",
    "graph_pure = create_graph(master_df)"
   ]
  },
  {
   "cell_type": "code",
   "execution_count": 6,
   "metadata": {},
   "outputs": [],
   "source": [
    "\n",
    "# Creating a random sliding window of size 8, selecting 4 nodes prior and 4 nodes after\n",
    "import pandas as pd\n",
    "import networkx as nx\n",
    "\n",
    "G = nx.Graph()\n",
    "\n",
    "for gid, group in master_df.groupby('priogrid_gid'):\n",
    "    features = group[master_df.columns.drop('priogrid_gid')].to_dict('records')[0]\n",
    "    G.add_node(gid, **features)\n",
    "\n",
    "nodes = list(G.nodes())\n",
    "for i in range(len(nodes)):\n",
    "    node = nodes[i]\n",
    "    neighbors = nodes[max(0, i-4):i] + nodes[i+1:i+5]\n",
    "    for neighbor in neighbors:\n",
    "        G.add_edge(node, neighbor)"
   ]
  },
  {
   "cell_type": "code",
   "execution_count": 7,
   "metadata": {},
   "outputs": [
    {
     "name": "stdout",
     "output_type": "stream",
     "text": [
      "13110\n"
     ]
    },
    {
     "name": "stderr",
     "output_type": "stream",
     "text": [
      "C:\\Users\\Divith Narendra\\AppData\\Local\\Temp\\ipykernel_6136\\3921403832.py:1: FutureWarning: adjacency_matrix will return a scipy.sparse array instead of a matrix in Networkx 3.0.\n",
      "  adj_matrix = nx.adjacency_matrix(G)\n"
     ]
    }
   ],
   "source": [
    "# Sliding window implementation adjacency matrix\n",
    "adj_matrix_slide = nx.adjacency_matrix(G)\n",
    "print(len(adj_matrix_slide.todense()))\n"
   ]
  },
  {
   "cell_type": "code",
   "execution_count": 8,
   "metadata": {},
   "outputs": [
    {
     "name": "stdout",
     "output_type": "stream",
     "text": [
      "13110\n"
     ]
    },
    {
     "name": "stderr",
     "output_type": "stream",
     "text": [
      "C:\\Users\\Divith Narendra\\AppData\\Local\\Temp\\ipykernel_6136\\1782947322.py:1: FutureWarning: adjacency_matrix will return a scipy.sparse array instead of a matrix in Networkx 3.0.\n",
      "  adj_matrix = nx.adjacency_matrix(graph_pure)\n"
     ]
    }
   ],
   "source": [
    "# Adjacency matrix for the graph without neighborhood sampling\n",
    "adj_matrix = nx.adjacency_matrix(graph_pure)\n",
    "print(len(adj_matrix.todense()))\n"
   ]
  },
  {
   "cell_type": "code",
   "execution_count": null,
   "metadata": {},
   "outputs": [],
   "source": [
    "# Implements a neighborhood sampling solution for the graph, considering a randomization factor of 0.50 \n",
    "import networkx as nx\n",
    "import pandas as pd\n",
    "import random\n",
    "\n",
    "def create_graph(master_df, sampling_rate=0.5):\n",
    "    graph = nx.Graph()\n",
    "    unique_priogrid_gids = master_df['priogrid_gid'].unique()\n",
    "\n",
    "    for priogrid_gid in unique_priogrid_gids:\n",
    "        node_features = master_df[master_df['priogrid_gid'] == priogrid_gid].drop(['priogrid_gid'], axis=1).to_dict('records')[0]\n",
    "        graph.add_node(priogrid_gid, **node_features)\n",
    "        \n",
    "        row, col = priogrid_gid // 100, priogrid_gid % 100\n",
    "        neighbors = []\n",
    "        for dr in [-1, 0, 1]:\n",
    "            for dc in [-1, 0, 1]:\n",
    "                if dr == 0 and dc == 0:\n",
    "                    continue\n",
    "                neighbor_row = row + dr\n",
    "                neighbor_col = col + dc\n",
    "                neighbor_priogrid_gid = neighbor_row * 100 + neighbor_col\n",
    "                if neighbor_priogrid_gid in graph.nodes():\n",
    "                    neighbors.append(neighbor_priogrid_gid)\n",
    "\n",
    "        for neighbor in neighbors:\n",
    "            if random.random() <= sampling_rate:\n",
    "                graph.add_edge(priogrid_gid, neighbor)\n",
    "\n",
    "    return graph\n",
    "\n",
    "graph = create_graph(master_df)"
   ]
  }
 ],
 "metadata": {
  "kernelspec": {
   "display_name": "Python 3",
   "language": "python",
   "name": "python3"
  },
  "language_info": {
   "codemirror_mode": {
    "name": "ipython",
    "version": 3
   },
   "file_extension": ".py",
   "mimetype": "text/x-python",
   "name": "python",
   "nbconvert_exporter": "python",
   "pygments_lexer": "ipython3",
   "version": "3.11.9"
  }
 },
 "nbformat": 4,
 "nbformat_minor": 2
}
