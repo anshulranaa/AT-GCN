{
 "cells": [
  {
   "cell_type": "code",
   "execution_count": 2,
   "metadata": {},
   "outputs": [],
   "source": [
    "import pandas as pd\n",
    "import torch\n",
    "from torch_geometric.data import Data\n",
    "import pandas as pd\n",
    "import networkx as nx"
   ]
  },
  {
   "cell_type": "code",
   "execution_count": null,
   "metadata": {},
   "outputs": [],
   "source": [
    "%run preprocessing.ipynb"
   ]
  },
  {
   "cell_type": "code",
   "execution_count": 3,
   "metadata": {},
   "outputs": [],
   "source": [
    "# Graph implementation assuming a no neighborhood sampling and no sliding window approach \n",
    "def create_graph(master_df):\n",
    "    graph = nx.Graph()\n",
    "    unique_priogrid_gids = master_df['priogrid_gid'].unique()\n",
    "\n",
    "    for priogrid_gid in unique_priogrid_gids:\n",
    "        node_features = master_df[master_df['priogrid_gid'] == priogrid_gid].drop(['priogrid_gid'], axis=1).to_dict('records')[0]\n",
    "        graph.add_node(priogrid_gid, **node_features)\n",
    "\n",
    "    # Add edges connecting each node to its 8 immediate neighbors\n",
    "    for node in graph.nodes():\n",
    "        row, col = node // 100, node % 100\n",
    "        neighbors = []\n",
    "\n",
    "        for dr in [-1, 0, 1]:\n",
    "            for dc in [-1, 0, 1]:\n",
    "                if dr == 0 and dc == 0:\n",
    "                    continue\n",
    "                neighbor_row = row + dr\n",
    "                neighbor_col = col + dc\n",
    "                neighbor_priogrid_gid = neighbor_row * 100 + neighbor_col\n",
    "                if neighbor_priogrid_gid in graph.nodes():\n",
    "                    neighbors.append(neighbor_priogrid_gid)\n",
    "\n",
    "        for neighbor in neighbors:\n",
    "            graph.add_edge(node, neighbor)\n",
    "\n",
    "    return graph"
   ]
  },
  {
   "cell_type": "code",
   "execution_count": 6,
   "metadata": {},
   "outputs": [],
   "source": [
    "# Creating a random sliding window of size 8, selecting 4 nodes prior and 4 nodes afte\n",
    "def sliding_window(master_df):\n",
    "    G = nx.Graph()\n",
    "\n",
    "    for gid, group in master_df.groupby('priogrid_gid'):\n",
    "        features = group[master_df.columns.drop('priogrid_gid')].to_dict('records')[0]\n",
    "        G.add_node(gid, **features)\n",
    "\n",
    "    nodes = list(G.nodes())\n",
    "    for i in range(len(nodes)):\n",
    "        node = nodes[i]\n",
    "        neighbors = nodes[max(0, i-4):i] + nodes[i+1:i+5]\n",
    "        for neighbor in neighbors:\n",
    "            G.add_edge(node, neighbor)"
   ]
  },
  {
   "cell_type": "code",
   "execution_count": 11,
   "metadata": {},
   "outputs": [],
   "source": [
    "import torch\n",
    "import pandas as pd\n",
    "from torch_geometric.data import Data\n",
    "\n",
    "def create_graph_pyg(master_df):\n",
    "    # Prepare node features\n",
    "    node_features = master_df.drop(columns=['priogrid_gid']).to_numpy(dtype=float)\n",
    "    node_features_tensor = torch.tensor(node_features, dtype=torch.float)\n",
    "    \n",
    "    # Prepare nodes and their indices\n",
    "    nodes = master_df['priogrid_gid'].tolist()\n",
    "    node_index = {node: idx for idx, node in enumerate(nodes)}\n",
    "    \n",
    "    # Prepare edge list\n",
    "    edge_list = []\n",
    "    for i, node in enumerate(nodes):\n",
    "        # Determine neighbors based on the index; adjust for boundary conditions\n",
    "        neighbors = nodes[max(0, i-4):i] + nodes[i+1:i+5]\n",
    "        for neighbor in neighbors:\n",
    "            if neighbor in node_index:  # Ensure neighbor exists\n",
    "                edge_list.append([node_index[node], node_index[neighbor]])\n",
    "    \n",
    "    # Convert edge list to tensor\n",
    "    edge_index = torch.tensor(edge_list, dtype=torch.long).t().contiguous()\n",
    "    \n",
    "    # Create PyTorch Geometric Data object\n",
    "    data = Data(x=node_features_tensor, edge_index=edge_index)\n",
    "    \n",
    "    return data\n",
    "# Example usage\n",
    "# Assume 'master_df' is your DataFrame and has been correctly loaded with 'priogrid_gid' and other features\n"
   ]
  },
  {
   "cell_type": "code",
   "execution_count": null,
   "metadata": {},
   "outputs": [],
   "source": [
    "# Implements a neighborhood sampling solution for the graph, considering a randomization factor of 0.50 \n",
    "import random\n",
    "\n",
    "def create_graph_neighbouthoodSampling(master_df, sampling_rate=0.5):\n",
    "    graph = nx.Graph()\n",
    "    unique_priogrid_gids = master_df['priogrid_gid'].unique()\n",
    "\n",
    "    for priogrid_gid in unique_priogrid_gids:\n",
    "        node_features = master_df[master_df['priogrid_gid'] == priogrid_gid].drop(['priogrid_gid'], axis=1).to_dict('records')[0]\n",
    "        graph.add_node(priogrid_gid, **node_features)\n",
    "        \n",
    "        row, col = priogrid_gid // 100, priogrid_gid % 100\n",
    "        neighbors = []\n",
    "        for dr in [-1, 0, 1]:\n",
    "            for dc in [-1, 0, 1]:\n",
    "                if dr == 0 and dc == 0:\n",
    "                    continue\n",
    "                neighbor_row = row + dr\n",
    "                neighbor_col = col + dc\n",
    "                neighbor_priogrid_gid = neighbor_row * 100 + neighbor_col\n",
    "                if neighbor_priogrid_gid in graph.nodes():\n",
    "                    neighbors.append(neighbor_priogrid_gid)\n",
    "\n",
    "        for neighbor in neighbors:\n",
    "            if random.random() <= sampling_rate:\n",
    "                graph.add_edge(priogrid_gid, neighbor)\n",
    "\n",
    "    return graph"
   ]
  },
  {
   "cell_type": "code",
   "execution_count": 15,
   "metadata": {},
   "outputs": [],
   "source": [
    "import numpy as np\n",
    "import torch\n",
    "from torch_geometric.data import Data\n",
    "from torch_geometric.utils import remove_self_loops, add_remaining_self_loops, degree\n",
    "\n",
    "def create_graph_pyg_usable(master_df):\n",
    "    # Prepare node features\n",
    "    node_features = master_df.drop(columns=['priogrid_gid', 'ged_sb', 'month_id', 'date']).to_numpy(dtype=float)\n",
    "    node_features_tensor = torch.tensor(node_features, dtype=torch.float)\n",
    "\n",
    "    # Extract labels\n",
    "    labels = master_df['ged_sb'].to_numpy(dtype=float)\n",
    "    labels_tensor = torch.tensor(labels, dtype=torch.float)\n",
    "\n",
    "    # Prepare nodes and their indices\n",
    "    nodes = master_df['priogrid_gid'].tolist()\n",
    "    node_index = {node: idx for idx, node in enumerate(nodes)}\n",
    "\n",
    "    # Prepare edge list\n",
    "    edge_list = []\n",
    "    for i, node in enumerate(nodes):\n",
    "        # Determine neighbors based on the index; adjust for boundary conditions\n",
    "        neighbors = nodes[max(0, i-4):i] + nodes[i+1:i+5]\n",
    "        for neighbor in neighbors:\n",
    "            if neighbor in node_index:\n",
    "                # Ensure neighbor exists\n",
    "                edge_list.append([node_index[node], node_index[neighbor]])\n",
    "\n",
    "    # Convert edge list to tensor\n",
    "    edge_index = torch.tensor(edge_list, dtype=torch.long).t().contiguous()\n",
    "\n",
    "    # Create PyTorch Geometric Data object\n",
    "    data = Data(x=node_features_tensor, edge_index=edge_index, y=labels_tensor)\n",
    "\n",
    "    # Normalize the adjacency matrix\n",
    "    edge_index, _ = remove_self_loops(data.edge_index)\n",
    "    edge_index, _ = add_remaining_self_loops(edge_index, num_nodes=data.num_nodes)\n",
    "    row, col = edge_index\n",
    "    deg = degree(row, data.num_nodes, dtype=data.x.dtype)\n",
    "    deg_inv_sqrt = deg.pow(-0.5)\n",
    "    deg_inv_sqrt[deg_inv_sqrt == float('inf')] = 0\n",
    "    norm = deg_inv_sqrt[row] * deg_inv_sqrt[col]\n",
    "    data.norm = norm\n",
    "\n",
    "    # Construct the adjacency matrix\n",
    "    values = torch.ones(edge_index.shape[1])\n",
    "    adj_matrix = torch.sparse_coo_tensor(edge_index, values, (data.num_nodes, data.num_nodes))\n",
    "\n",
    "    return data, adj_matrix\n",
    "\n",
    "data, adj_matrix = create_graph_pyg_usable(master_df)"
   ]
  },
  {
   "cell_type": "code",
   "execution_count": 19,
   "metadata": {},
   "outputs": [
    {
     "name": "stdout",
     "output_type": "stream",
     "text": [
      "Data(x=[5139120, 106], edge_index=[2, 41112940], y=[5139120], norm=[46252060])\n"
     ]
    }
   ],
   "source": [
    "print(data)"
   ]
  },
  {
   "cell_type": "code",
   "execution_count": 17,
   "metadata": {},
   "outputs": [
    {
     "name": "stdout",
     "output_type": "stream",
     "text": [
      "tensor(indices=tensor([[5126010, 5126010, 5126010,  ..., 5139117, 5139118,\n",
      "                        5139119],\n",
      "                       [5126011, 5126012, 5126013,  ..., 5139117, 5139118,\n",
      "                        5139119]]),\n",
      "       values=tensor([1., 1., 1.,  ..., 1., 1., 1.]),\n",
      "       size=(5139120, 5139120), nnz=46252060, layout=torch.sparse_coo)\n"
     ]
    }
   ],
   "source": [
    "print(adj_matrix)"
   ]
  }
 ],
 "metadata": {
  "kernelspec": {
   "display_name": "Python 3",
   "language": "python",
   "name": "python3"
  },
  "language_info": {
   "codemirror_mode": {
    "name": "ipython",
    "version": 3
   },
   "file_extension": ".py",
   "mimetype": "text/x-python",
   "name": "python",
   "nbconvert_exporter": "python",
   "pygments_lexer": "ipython3",
   "version": "3.11.9"
  }
 },
 "nbformat": 4,
 "nbformat_minor": 2
}
