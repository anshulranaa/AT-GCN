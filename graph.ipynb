{
 "cells": [
  {
   "cell_type": "code",
   "execution_count": 1,
   "metadata": {},
   "outputs": [],
   "source": [
    "%run preprocessing.ipynb"
   ]
  },
  {
   "cell_type": "code",
   "execution_count": 2,
   "metadata": {},
   "outputs": [],
   "source": [
    "import pandas as pd\n",
    "import torch\n",
    "from torch_geometric.data import Data\n",
    "from torch_geometric.utils import remove_self_loops, add_remaining_self_loops, degree\n",
    "from torch_geometric.nn import GCNConv"
   ]
  },
  {
   "cell_type": "code",
   "execution_count": 2,
   "metadata": {},
   "outputs": [],
   "source": [
    "# Graph implementation without neighbourhood sampling and sliding window\n",
    "def create_graph_pyg(master_df):\n",
    "    node_features = master_df.drop(columns=['priogrid_gid', 'ged_sb', 'month_id', 'date']).to_numpy(dtype=float)\n",
    "    node_features_tensor = torch.tensor(node_features, dtype=torch.float)\n",
    "\n",
    "    labels = master_df['ged_sb'].to_numpy(dtype=float)\n",
    "    labels_tensor = torch.tensor(labels, dtype=torch.float)\n",
    "\n",
    "    nodes = master_df['priogrid_gid'].tolist()\n",
    "    node_index = {node: idx for idx, node in enumerate(nodes)}\n",
    "\n",
    "    num_nodes = len(nodes)\n",
    "    edge_list = []\n",
    "    for i in range(num_nodes):\n",
    "        for j in range(i+1, num_nodes):\n",
    "            edge_list.append([i, j])\n",
    "            edge_list.append([j, i])\n",
    "\n",
    "    edge_index = torch.tensor(edge_list, dtype=torch.long).t().contiguous()\n",
    "    node_features_tensor = node_features_tensor\n",
    "    edge_index = edge_index\n",
    "    labels_tensor = labels_tensor\n",
    "\n",
    "    data = Data(x=node_features_tensor, edge_index=edge_index, y=labels_tensor)\n",
    "\n",
    "    return data"
   ]
  },
  {
   "cell_type": "code",
   "execution_count": 3,
   "metadata": {},
   "outputs": [],
   "source": [
    "import torch\n",
    "import numpy as np\n",
    "from torch_geometric.data import Data\n",
    "from torch_geometric.nn import GCNConv\n",
    "from torch_geometric.utils import remove_self_loops, add_remaining_self_loops, degree\n",
    "\n",
    "def create_graph_pyg_ns(master_df, hidden_channels=64, probability=0.4):\n",
    "    node_features = master_df.drop(columns=['priogrid_gid', 'ged_sb', 'date']).to_numpy(dtype=float)\n",
    "    node_features_tensor = torch.tensor(node_features, dtype=torch.float)\n",
    "\n",
    "    labels = master_df['ged_sb'].to_numpy(dtype=float)\n",
    "    labels_tensor = torch.tensor(labels, dtype=torch.float)\n",
    "\n",
    "    nodes = master_df['priogrid_gid'].tolist()\n",
    "    node_index = {node: idx for idx, node in enumerate(nodes)}\n",
    "\n",
    "    edge_list = []\n",
    "    for i, node in enumerate(nodes):\n",
    "        if node_index[node] == 0:\n",
    "            neighbors = nodes[1:]\n",
    "        elif node_index[node] == len(nodes) - 1:\n",
    "            neighbors = nodes[:-1]\n",
    "        else:\n",
    "            neighbors = nodes\n",
    "\n",
    "        # Sample a subset of neighbors for each node based on the fixed probability\n",
    "        sampled_neighbors = np.random.choice(neighbors, size=int(len(neighbors) * probability), replace=False)\n",
    "        for neighbor in sampled_neighbors:\n",
    "            if neighbor in node_index:\n",
    "                edge_list.append([node_index[node], node_index[neighbor]])\n",
    "\n",
    "    edge_index = torch.tensor(edge_list, dtype=torch.long).t().contiguous()\n",
    "\n",
    "    data = Data(x=node_features_tensor, edge_index=edge_index, y=labels_tensor)\n",
    "\n",
    "    edge_index, _ = remove_self_loops(data.edge_index)\n",
    "    edge_index, _ = add_remaining_self_loops(edge_index, num_nodes=data.num_nodes)\n",
    "    row, col = edge_index\n",
    "    deg = degree(row, data.num_nodes, dtype=data.x.dtype)\n",
    "    deg_inv_sqrt = deg.pow(-0.5)\n",
    "    deg_inv_sqrt[deg_inv_sqrt == float('inf')] = 0\n",
    "    norm = deg_inv_sqrt[row] * deg_inv_sqrt[col]\n",
    "    data.norm = norm\n",
    "\n",
    "    values = torch.ones(edge_index.shape[1])\n",
    "    adj_matrix = torch.sparse_coo_tensor(edge_index, values, (data.num_nodes, data.num_nodes))\n",
    "\n",
    "    conv_layer = GCNConv(node_features.shape[1], hidden_channels)\n",
    "\n",
    "    return data, adj_matrix, conv_layer\n"
   ]
  },
  {
   "cell_type": "code",
   "execution_count": 3,
   "metadata": {},
   "outputs": [],
   "source": [
    "# Graph implementation with sliding window\n",
    "def create_graph_pyg_sw(master_df, hidden_channels=64):\n",
    "    node_features = master_df.drop(columns=['priogrid_gid', 'ged_sb', 'date']).to_numpy(dtype=float)\n",
    "    node_features_tensor = torch.tensor(node_features, dtype=torch.float)\n",
    "\n",
    "    labels = master_df['ged_sb'].to_numpy(dtype=float)\n",
    "    labels_tensor = torch.tensor(labels, dtype=torch.float)\n",
    "\n",
    "    nodes = master_df['priogrid_gid'].tolist()\n",
    "    node_index = {node: idx for idx, node in enumerate(nodes)}\n",
    "\n",
    "    edge_list = []\n",
    "    for i, node in enumerate(nodes):\n",
    "        neighbors = nodes[max(0, i-4):i] + nodes[i+1:min(len(nodes),i+5)]\n",
    "        for neighbor in neighbors:\n",
    "            if neighbor in node_index:\n",
    "                edge_list.append([node_index[node], node_index[neighbor]])\n",
    "\n",
    "    edge_index = torch.tensor(edge_list, dtype=torch.long).t().contiguous()\n",
    "\n",
    "    data = Data(x=node_features_tensor, edge_index=edge_index, y=labels_tensor)\n",
    "\n",
    "    edge_index, _ = remove_self_loops(data.edge_index)\n",
    "    edge_index, _ = add_remaining_self_loops(edge_index, num_nodes=data.num_nodes)\n",
    "    row, col = edge_index\n",
    "    deg = degree(row, data.num_nodes, dtype=data.x.dtype)\n",
    "    deg_inv_sqrt = deg.pow(-0.5)\n",
    "    deg_inv_sqrt[deg_inv_sqrt == float('inf')] = 0\n",
    "    norm = deg_inv_sqrt[row] * deg_inv_sqrt[col]\n",
    "    data.norm = norm\n",
    "\n",
    "    values = torch.ones(edge_index.shape[1])\n",
    "    adj_matrix = torch.sparse_coo_tensor(edge_index, values, (data.num_nodes, data.num_nodes))\n",
    "    conv_layer = GCNConv(node_features.shape[1], hidden_channels)\n",
    "\n",
    "    return data, adj_matrix, conv_layer"
   ]
  },
  {
   "cell_type": "code",
   "execution_count": 5,
   "metadata": {},
   "outputs": [],
   "source": [
    "graph = create_graph_pyg_sw(master_df)"
   ]
  },
  {
   "cell_type": "code",
   "execution_count": 10,
   "metadata": {},
   "outputs": [
    {
     "ename": "AttributeError",
     "evalue": "'tuple' object has no attribute 'num_nodes'",
     "output_type": "error",
     "traceback": [
      "\u001b[1;31m---------------------------------------------------------------------------\u001b[0m",
      "\u001b[1;31mAttributeError\u001b[0m                            Traceback (most recent call last)",
      "Cell \u001b[1;32mIn[10], line 1\u001b[0m\n\u001b[1;32m----> 1\u001b[0m \u001b[38;5;28mprint\u001b[39m(\u001b[38;5;124m\"\u001b[39m\u001b[38;5;124mNumber of nodes:\u001b[39m\u001b[38;5;124m\"\u001b[39m, \u001b[43mgraph\u001b[49m\u001b[38;5;241;43m.\u001b[39;49m\u001b[43mnum_nodes\u001b[49m)\n\u001b[0;32m      3\u001b[0m \u001b[38;5;66;03m# Print the number of edges\u001b[39;00m\n\u001b[0;32m      4\u001b[0m \u001b[38;5;28mprint\u001b[39m(\u001b[38;5;124m\"\u001b[39m\u001b[38;5;124mNumber of edges:\u001b[39m\u001b[38;5;124m\"\u001b[39m, graph\u001b[38;5;241m.\u001b[39mnum_edges)\n",
      "\u001b[1;31mAttributeError\u001b[0m: 'tuple' object has no attribute 'num_nodes'"
     ]
    }
   ],
   "source": [
    "print(\"Number of nodes:\", graph.num_nodes)\n",
    "\n",
    "# Print the number of edges\n",
    "print(\"Number of edges:\", graph.num_edges)"
   ]
  }
 ],
 "metadata": {
  "kernelspec": {
   "display_name": "Python 3",
   "language": "python",
   "name": "python3"
  },
  "language_info": {
   "codemirror_mode": {
    "name": "ipython",
    "version": 3
   },
   "file_extension": ".py",
   "mimetype": "text/x-python",
   "name": "python",
   "nbconvert_exporter": "python",
   "pygments_lexer": "ipython3",
   "version": "3.9.7"
  }
 },
 "nbformat": 4,
 "nbformat_minor": 2
}
