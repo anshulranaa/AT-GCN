{
 "cells": [
  {
   "cell_type": "code",
   "execution_count": 1,
   "metadata": {},
   "outputs": [
    {
     "name": "stdout",
     "output_type": "stream",
     "text": [
      "hello\n"
     ]
    }
   ],
   "source": [
    "import numpy \n",
    "%run graph_conversion.ipynb"
   ]
  },
  {
   "cell_type": "code",
   "execution_count": null,
   "metadata": {},
   "outputs": [],
   "source": [
    "import argparse\n",
    "import torch\n",
    "import torch.nn as nn\n",
    "from utils.graph_conv import calculate_laplacian_with_self_loop\n",
    "\n",
    "\n",
    "class GCN(nn.Module):\n",
    "    def __init__(self, adj, input_dim: int, output_dim: int, **kwargs):\n",
    "        super(GCN, self).__init__()\n",
    "        self.register_buffer(\n",
    "            \"laplacian\", calculate_laplacian_with_self_loop(torch.FloatTensor(adj))\n",
    "        )\n",
    "        self._num_nodes = adj.shape[0]\n",
    "        self._input_dim = input_dim  # seq_len for prediction\n",
    "        self._output_dim = output_dim  # hidden_dim for prediction\n",
    "        self.weights = nn.Parameter(\n",
    "            torch.FloatTensor(self._input_dim, self._output_dim)\n",
    "        )\n",
    "        self.reset_parameters()\n",
    "\n",
    "    def reset_parameters(self):\n",
    "        nn.init.xavier_uniform_(self.weights, gain=nn.init.calculate_gain(\"tanh\"))\n",
    "\n",
    "    def forward(self, inputs):\n",
    "        # (batch_size, seq_len, num_nodes)\n",
    "        batch_size = inputs.shape[0]\n",
    "        # (num_nodes, batch_size, seq_len)\n",
    "        inputs = inputs.transpose(0, 2).transpose(1, 2)\n",
    "        # (num_nodes, batch_size * seq_len)\n",
    "        inputs = inputs.reshape((self._num_nodes, batch_size * self._input_dim))\n",
    "        # AX (num_nodes, batch_size * seq_len)\n",
    "        ax = self.laplacian @ inputs\n",
    "        # (num_nodes, batch_size, seq_len)\n",
    "        ax = ax.reshape((self._num_nodes, batch_size, self._input_dim))\n",
    "        # (num_nodes * batch_size, seq_len)\n",
    "        ax = ax.reshape((self._num_nodes * batch_size, self._input_dim))\n",
    "        # act(AXW) (num_nodes * batch_size, output_dim)\n",
    "        outputs = torch.tanh(ax @ self.weights)\n",
    "        # (num_nodes, batch_size, output_dim)\n",
    "        outputs = outputs.reshape((self._num_nodes, batch_size, self._output_dim))\n",
    "        # (batch_size, num_nodes, output_dim)\n",
    "        outputs = outputs.transpose(0, 1)\n",
    "        return outputs\n",
    "\n",
    "    @staticmethod\n",
    "    def add_model_specific_arguments(parent_parser):\n",
    "        parser = argparse.ArgumentParser(parents=[parent_parser], add_help=False)\n",
    "        parser.add_argument(\"--hidden_dim\", type=int, default=64)\n",
    "        return parser\n",
    "\n",
    "    @property\n",
    "    def hyperparameters(self):\n",
    "        return {\n",
    "            \"num_nodes\": self._num_nodes,\n",
    "            \"input_dim\": self._input_dim,\n",
    "            \"output_dim\": self._output_dim,\n",
    "        }"
   ]
  }
 ],
 "metadata": {
  "kernelspec": {
   "display_name": "Python 3",
   "language": "python",
   "name": "python3"
  },
  "language_info": {
   "codemirror_mode": {
    "name": "ipython",
    "version": 3
   },
   "file_extension": ".py",
   "mimetype": "text/x-python",
   "name": "python",
   "nbconvert_exporter": "python",
   "pygments_lexer": "ipython3",
   "version": "3.11.9"
  }
 },
 "nbformat": 4,
 "nbformat_minor": 2
}
