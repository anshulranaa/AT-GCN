{
 "cells": [
  {
   "cell_type": "code",
   "execution_count": 2,
   "metadata": {},
   "outputs": [],
   "source": [
    "import numpy \n",
    "import torch\n",
    "import torch.nn.functional as F\n",
    "from torch_geometric.data import Data\n",
    "from torch_geometric.nn import GCNConv\n",
    "from torch_geometric.utils import remove_self_loops, add_self_loops, add_remaining_self_loops, degree\n"
   ]
  },
  {
   "cell_type": "code",
   "execution_count": 3,
   "metadata": {},
   "outputs": [],
   "source": [
    "%run graph.ipynb"
   ]
  },
  {
   "cell_type": "code",
   "execution_count": 4,
   "metadata": {},
   "outputs": [],
   "source": [
    "import numpy as np\n",
    "import scipy.sparse as sp\n",
    "\n",
    "\n",
    "def create_graph_pyg(master_df):\n",
    "    # Prepare node features\n",
    "    node_features = master_df.drop(columns=['priogrid_gid']).to_numpy(dtype=float)\n",
    "    node_features_tensor = torch.tensor(node_features, dtype=torch.float)\n",
    "\n",
    "    # Prepare nodes and their indices\n",
    "    nodes = master_df['priogrid_gid'].tolist()\n",
    "    node_index = {node: idx for idx, node in enumerate(nodes)}\n",
    "\n",
    "    # Prepare edge list\n",
    "    edge_list = []\n",
    "    for i, node in enumerate(nodes):\n",
    "        # Determine neighbors based on the index; adjust for boundary conditions\n",
    "        neighbors = nodes[max(0, i-4):i] + nodes[i+1:i+5]\n",
    "        for neighbor in neighbors:\n",
    "            if neighbor in node_index:\n",
    "                # Ensure neighbor exists\n",
    "                edge_list.append([node_index[node], node_index[neighbor]])\n",
    "\n",
    "    # Convert edge list to tensor\n",
    "    edge_index = torch.tensor(edge_list, dtype=torch.long).t().contiguous()\n",
    "\n",
    "    # Create PyTorch Geometric Data object\n",
    "    data = Data(x=node_features_tensor, edge_index=edge_index)\n",
    "\n",
    "    # Normalize the adjacency matrix\n",
    "    edge_index, _ = remove_self_loops(data.edge_index)\n",
    "    edge_index, _ = add_remaining_self_loops(edge_index, num_nodes=data.num_nodes)\n",
    "    row, col = edge_index\n",
    "    deg = degree(row, data.num_nodes, dtype=data.x.dtype)\n",
    "    deg_inv_sqrt = deg.pow(-0.5)\n",
    "    deg_inv_sqrt[deg_inv_sqrt == float('inf')] = 0\n",
    "    norm = deg_inv_sqrt[row] * deg_inv_sqrt[col]\n",
    "    data.norm = norm\n",
    "\n",
    "    return data\n",
    "\n",
    "data = create_graph_pyg(master_df)\n"
   ]
  },
  {
   "cell_type": "code",
   "execution_count": 5,
   "metadata": {},
   "outputs": [
    {
     "name": "stdout",
     "output_type": "stream",
     "text": [
      "Data(x=[5139120, 107], edge_index=[2, 41112940], norm=[46252060])\n"
     ]
    }
   ],
   "source": [
    "print(data)"
   ]
  },
  {
   "cell_type": "code",
   "execution_count": 7,
   "metadata": {},
   "outputs": [
    {
     "name": "stderr",
     "output_type": "stream",
     "text": [
      "/opt/homebrew/lib/python3.11/site-packages/torch_geometric/deprecation.py:26: UserWarning: 'train_test_split_edges' is deprecated, use 'transforms.RandomLinkSplit' instead\n",
      "  warnings.warn(out)\n"
     ]
    },
    {
     "ename": "",
     "evalue": "",
     "output_type": "error",
     "traceback": [
      "\u001b[1;31mThe Kernel crashed while executing code in the current cell or a previous cell. \n",
      "\u001b[1;31mPlease review the code in the cell(s) to identify a possible cause of the failure. \n",
      "\u001b[1;31mClick <a href='https://aka.ms/vscodeJupyterKernelCrash'>here</a> for more info. \n",
      "\u001b[1;31mView Jupyter <a href='command:jupyter.viewOutput'>log</a> for further details."
     ]
    }
   ],
   "source": [
    "import torch\n",
    "import torch.nn.functional as F\n",
    "from torch_geometric.nn import GCNConv\n",
    "from torch_geometric.data import DataLoader\n",
    "from torch_geometric.utils import degree, train_test_split_edges\n",
    "from sklearn.metrics import accuracy_score, precision_recall_fscore_support, roc_auc_score\n",
    "\n",
    "class GCN(torch.nn.Module):\n",
    "    def __init__(self, input_dim, hidden_dim, output_dim):\n",
    "        super(GCN, self).__init__()\n",
    "        self.conv1 = GCNConv(input_dim, hidden_dim)\n",
    "        self.conv2 = GCNConv(hidden_dim, output_dim)\n",
    "\n",
    "    def forward(self, data):\n",
    "        x, edge_index, edge_weight = data.x, data.edge_index, data.norm\n",
    "\n",
    "        # Add self-connections\n",
    "        edge_index, _ = remove_self_loops(edge_index)\n",
    "        edge_index, _ = add_remaining_self_loops(edge_index, num_nodes=x.size(0))\n",
    "\n",
    "        # Propagate through the GCN layers\n",
    "        x = self.conv1(x, edge_index, edge_weight)\n",
    "        x = F.relu(x)\n",
    "        x = self.conv2(x, edge_index, edge_weight)\n",
    "\n",
    "        return x\n",
    "\n",
    "# Split the data into train, validation, and test sets\n",
    "train_data, val_data = train_test_split_edges(data)\n",
    "val_data, test_data = train_test_split_edges(val_data, rev_examples=0.2)\n",
    "\n",
    "# Create data loaders\n",
    "train_loader = DataLoader(train_data, batch_size=32, shuffle=True)\n",
    "val_loader = DataLoader(val_data, batch_size=32, shuffle=False)\n",
    "test_loader = DataLoader(test_data, batch_size=32, shuffle=False)\n",
    "\n",
    "# Initialize the model\n",
    "model = GCN(input_dim=data.num_node_features, hidden_dim=64, output_dim=2)\n",
    "\n",
    "# Define the loss function and optimizer\n",
    "criterion = torch.nn.CrossEntropyLoss()\n",
    "optimizer = torch.optim.Adam(model.parameters(), lr=0.01)\n",
    "\n",
    "# Training loop\n",
    "num_epochs = 100\n",
    "for epoch in range(num_epochs):\n",
    "    model.train()\n",
    "    train_loss = 0.0\n",
    "\n",
    "    for data in train_loader:\n",
    "        optimizer.zero_grad()\n",
    "        output = model(data)\n",
    "        loss = criterion(output, data.y)\n",
    "        loss.backward()\n",
    "        optimizer.step()\n",
    "        train_loss += loss.item()\n",
    "\n",
    "    # Evaluate on the validation set\n",
    "    model.eval()\n",
    "    val_loss = 0.0\n",
    "    val_preds = []\n",
    "    val_labels = []\n",
    "    with torch.no_grad():\n",
    "        for data in val_loader:\n",
    "            output = model(data)\n",
    "            val_loss += criterion(output, data.y).item()\n",
    "            val_preds.extend(output.argmax(dim=1).tolist())\n",
    "            val_labels.extend(data.y.tolist())\n",
    "\n",
    "    # Calculate validation metrics\n",
    "    val_accuracy = accuracy_score(val_labels, val_preds)\n",
    "    val_precision, val_recall, val_f1, _ = precision_recall_fscore_support(val_labels, val_preds, average='binary')\n",
    "    val_auc_roc = roc_auc_score(val_labels, val_preds)\n",
    "\n",
    "    print(f'Epoch {epoch+1}/{num_epochs}, Train Loss: {train_loss/len(train_loader):.4f}, Val Loss: {val_loss/len(val_loader):.4f}')\n",
    "    print(f'Val Accuracy: {val_accuracy:.4f}, Val Precision: {val_precision:.4f}, Val Recall: {val_recall:.4f}, Val F1: {val_f1:.4f}, Val AUC-ROC: {val_auc_roc:.4f}')\n",
    "\n",
    "# Evaluate on the test set\n",
    "model.eval()\n",
    "test_preds = []\n",
    "test_labels = []\n",
    "with torch.no_grad():\n",
    "    for data in test_loader:\n",
    "        output = model(data)\n",
    "        test_preds.extend(output.argmax(dim=1).tolist())\n",
    "        test_labels.extend(data.y.tolist())\n",
    "\n",
    "# Calculate test metrics\n",
    "test_accuracy = accuracy_score(test_labels, test_preds)\n",
    "test_precision, test_recall, test_f1, _ = precision_recall_fscore_support(test_labels, test_preds, average='binary')\n",
    "test_auc_roc = roc_auc_score(test_labels, test_preds)\n",
    "\n",
    "print(f'\\nTest Accuracy: {test_accuracy:.4f}, Test Precision: {test_precision:.4f}, Test Recall: {test_recall:.4f}, Test F1: {test_f1:.4f}, Test AUC-ROC: {test_auc_roc:.4f}')"
   ]
  }
 ],
 "metadata": {
  "kernelspec": {
   "display_name": "Python 3",
   "language": "python",
   "name": "python3"
  },
  "language_info": {
   "codemirror_mode": {
    "name": "ipython",
    "version": 3
   },
   "file_extension": ".py",
   "mimetype": "text/x-python",
   "name": "python",
   "nbconvert_exporter": "python",
   "pygments_lexer": "ipython3",
   "version": "3.11.9"
  }
 },
 "nbformat": 4,
 "nbformat_minor": 2
}
