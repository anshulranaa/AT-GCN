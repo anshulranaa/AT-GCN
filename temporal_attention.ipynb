{
 "cells": [
  {
   "cell_type": "code",
   "execution_count": 3,
   "metadata": {},
   "outputs": [],
   "source": [
    "%run preprocessing.ipynb\n"
   ]
  },
  {
   "cell_type": "code",
   "execution_count": null,
   "metadata": {},
   "outputs": [],
   "source": [
    "%temporal_preprocess.ipynb"
   ]
  },
  {
   "cell_type": "code",
   "execution_count": 19,
   "metadata": {},
   "outputs": [],
   "source": [
    "import torch\n",
    "import torch.nn as nn\n",
    "import torch.optim as optim\n",
    "from torch.utils.data import DataLoader, Dataset\n",
    "import pandas as pd\n",
    "import numpy as np\n",
    "from sklearn.preprocessing import StandardScaler\n",
    "from sklearn.model_selection import train_test_split"
   ]
  },
  {
   "cell_type": "code",
   "execution_count": 22,
   "metadata": {},
   "outputs": [
    {
     "name": "stdout",
     "output_type": "stream",
     "text": [
      "DatetimeIndex(['2018-01-01', '2018-02-01', '2018-03-01', '2018-04-01',\n",
      "               '2018-05-01', '2018-06-01', '2018-07-01', '2018-08-01',\n",
      "               '2018-09-01', '2018-10-01', '2018-11-01', '2018-12-01',\n",
      "               '2019-01-01', '2019-02-01', '2019-03-01', '2019-04-01',\n",
      "               '2019-05-01', '2019-06-01', '2019-07-01', '2019-08-01',\n",
      "               '2019-09-01', '2019-10-01', '2019-11-01', '2019-12-01',\n",
      "               '2020-01-01', '2020-01-01', '2020-02-01', '2020-02-01',\n",
      "               '2020-03-01', '2020-03-01', '2020-04-01', '2020-04-01',\n",
      "               '2020-05-01', '2020-05-01', '2020-06-01', '2020-06-01',\n",
      "               '2020-07-01', '2020-07-01', '2020-08-01', '2020-08-01',\n",
      "               '2020-09-01', '2020-09-01', '2020-10-01', '2020-10-01',\n",
      "               '2020-11-01', '2020-12-01', '2021-01-01', '2021-02-01',\n",
      "               '2021-03-01', '2021-04-01', '2021-05-01', '2021-06-01',\n",
      "               '2021-07-01', '2021-08-01', '2021-09-01', '2021-10-01'],\n",
      "              dtype='datetime64[ns]', freq=None)\n"
     ]
    }
   ],
   "source": [
    "# To inspect first group's datetime handling:\n",
    "first_gid, first_grp = next(iter(transformer_input.items()))\n",
    "print(pd.to_datetime(first_grp[:, -2]))  # Check what this outputs to verify correct handling\n"
   ]
  },
  {
   "cell_type": "code",
   "execution_count": 23,
   "metadata": {},
   "outputs": [],
   "source": [
    "class TransformerDataset(Dataset):\n",
    "    def __init__(self, data, date_encodings):\n",
    "        self.data = data\n",
    "        self.date_encodings = date_encodings\n",
    "    \n",
    "    def __len__(self):\n",
    "        return len(self.data)\n",
    "    \n",
    "    def __getitem__(self, idx):\n",
    "        gid = list(self.data.keys())[idx]\n",
    "        features = np.array(self.data[gid][:, :-2], dtype=np.float32)  # Exclude the last two columns if last is target and second last is date\n",
    "        target = np.array(self.data[gid][:, -1], dtype=np.float32)\n",
    "        dates = self.date_encodings[gid]\n",
    "        return torch.tensor(features), torch.tensor(dates), torch.tensor(target)"
   ]
  },
  {
   "cell_type": "code",
   "execution_count": 24,
   "metadata": {},
   "outputs": [],
   "source": [
    "# Proper DataLoader initialization\n",
    "dataset = TransformerDataset(transformer_input, date_encodings)\n",
    "\n",
    "train_set, val_set = train_test_split(range(len(dataset)), test_size=0.2, random_state=42)\n",
    "train_loader = DataLoader([dataset[i] for i in train_set], batch_size=32, shuffle=True)\n",
    "val_loader = DataLoader([dataset[i] for i in val_set], batch_size=32, shuffle=False)"
   ]
  },
  {
   "cell_type": "code",
   "execution_count": 25,
   "metadata": {},
   "outputs": [],
   "source": [
    "# Define the transformer model\n",
    "class TemporalTransformerEncoder(nn.Module):\n",
    "    def __init__(self, input_size, d_model, nhead, num_layers, dim_feedforward=512, dropout=0.1):\n",
    "        super(TemporalTransformerEncoder, self).__init__()\n",
    "        self.input_embedding = nn.Linear(input_size, d_model)\n",
    "        self.positional_encoder = nn.Embedding(int(np.max([np.max(dates) for dates in date_encodings.values()])) + 1, d_model)\n",
    "        encoder_layer = nn.TransformerEncoderLayer(d_model=d_model, nhead=nhead, dim_feedforward=dim_feedforward, dropout=dropout)\n",
    "        self.transformer_encoder = nn.TransformerEncoder(encoder_layer, num_layers)\n",
    "        self.output_layer = nn.Linear(d_model, 1)\n",
    "    \n",
    "    def forward(self, x, dates):\n",
    "        x = self.input_embedding(x)\n",
    "        dates = dates.long()\n",
    "        pos_encoding = self.positional_encoder(dates)\n",
    "        x += pos_encoding\n",
    "        x = self.transformer_encoder(x)\n",
    "        output = self.output_layer(x)\n",
    "        return output.squeeze(-1)"
   ]
  },
  {
   "cell_type": "code",
   "execution_count": 26,
   "metadata": {},
   "outputs": [
    {
     "name": "stderr",
     "output_type": "stream",
     "text": [
      "/opt/homebrew/lib/python3.11/site-packages/torch/nn/modules/transformer.py:286: UserWarning: enable_nested_tensor is True, but self.use_nested_tensor is False because encoder_layer.self_attn.batch_first was not True(use batch_first for better inference performance)\n",
      "  warnings.warn(f\"enable_nested_tensor is True, but self.use_nested_tensor is False because {why_not_sparsity_fast_path}\")\n"
     ]
    }
   ],
   "source": [
    "# Initialize the model\n",
    "model = TemporalTransformerEncoder(input_size=len(top_50_features), d_model=4, nhead=1, num_layers=1)\n",
    "criterion = nn.MSELoss()\n",
    "optimizer = optim.RMSprop(model.parameters(), lr=0.0001)"
   ]
  },
  {
   "cell_type": "code",
   "execution_count": null,
   "metadata": {},
   "outputs": [],
   "source": [
    "# Training loop\n",
    "# Training loop\n",
    "for epoch in tqdm(range(100)):\n",
    "    model.train()\n",
    "    for i, (features, dates, targets) in enumerate(train_loader):\n",
    "        try:\n",
    "            optimizer.zero_grad()\n",
    "            outputs = model(features.squeeze(0), dates.squeeze(0))\n",
    "            loss = criterion(outputs, targets)\n",
    "            loss.backward()\n",
    "            optimizer.step()\n",
    "        except Exception as e:\n",
    "            print(f\"Error at iteration {i} of epoch {epoch}: {str(e)}\")\n",
    "            break\n",
    "    # Validation loop\n",
    "    model.eval()\n",
    "    val_losses = []\n",
    "    with torch.no_grad():\n",
    "        for features, dates, targets in val_loader:\n",
    "            outputs = model(features.squeeze(0), dates.squeeze(0))\n",
    "            val_loss = criterion(outputs, targets)\n",
    "            val_losses.append(val_loss.item())\n",
    "    val_loss_avg = np.mean(val_losses)\n",
    "    print(f'Epoch {epoch+1}: Train Loss: {loss.item():.4f}, Val Loss: {val_loss_avg:.4f}')\n"
   ]
  },
  {
   "cell_type": "code",
   "execution_count": null,
   "metadata": {},
   "outputs": [],
   "source": [
    "for epoch in tqdm(range(100)):\n",
    "   model.eval()\n",
    "    val_losses = []\n",
    "    with torch.no_grad():\n",
    "        for features, dates, targets in val_loader:\n",
    "            outputs = model(features.squeeze(0), dates.squeeze(0))\n",
    "            val_loss = criterion(outputs, targets)\n",
    "            val_losses.append(val_loss.item())\n",
    "    val_loss_avg = np.mean(val_losses)\n",
    "    print(f'Epoch {epoch+1}: Train Loss: {loss.item():.4f}, Val Loss: {val_loss_avg:.4f}')"
   ]
  }
 ],
 "metadata": {
  "kernelspec": {
   "display_name": "Python 3",
   "language": "python",
   "name": "python3"
  },
  "language_info": {
   "codemirror_mode": {
    "name": "ipython",
    "version": 3
   },
   "file_extension": ".py",
   "mimetype": "text/x-python",
   "name": "python",
   "nbconvert_exporter": "python",
   "pygments_lexer": "ipython3",
   "version": "3.9.7"
  }
 },
 "nbformat": 4,
 "nbformat_minor": 2
}
