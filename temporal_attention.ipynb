{
 "cells": [
  {
   "cell_type": "code",
   "execution_count": 11,
   "metadata": {},
   "outputs": [],
   "source": [
    "import pandas as pd\n",
    "import numpy as np\n",
    "import pandas as pd\n",
    "\n"
   ]
  },
  {
   "cell_type": "code",
   "execution_count": 12,
   "metadata": {},
   "outputs": [],
   "source": [
    "from sklearn.ensemble import RandomForestClassifier\n",
    "from sklearn.impute import SimpleImputer"
   ]
  },
  {
   "cell_type": "code",
   "execution_count": 13,
   "metadata": {},
   "outputs": [],
   "source": [
    "from tqdm import tqdm"
   ]
  },
  {
   "cell_type": "code",
   "execution_count": 14,
   "metadata": {},
   "outputs": [],
   "source": [
    "%run preprocessing.ipynb\n"
   ]
  },
  {
   "cell_type": "code",
   "execution_count": 15,
   "metadata": {},
   "outputs": [
    {
     "data": {
      "text/plain": [
       "(734160, 107)"
      ]
     },
     "execution_count": 15,
     "metadata": {},
     "output_type": "execute_result"
    }
   ],
   "source": [
    "data = master_df\n",
    "\n",
    "data.shape"
   ]
  },
  {
   "cell_type": "code",
   "execution_count": 16,
   "metadata": {},
   "outputs": [],
   "source": [
    "df = pd.DataFrame(data)\n",
    "\n",
    "# Convert month_id to datetime\n",
    "def convert_month_id_to_datetime(month_id):\n",
    "    base_year = 1990\n",
    "    base_month = 1  # January is month 1\n",
    "    year = (month_id - 121) // 12 + base_year\n",
    "    month = (month_id - 121) % 12 + base_month\n",
    "    return pd.to_datetime({'year': year, 'month': month, 'day': np.ones_like(year)})\n",
    "\n",
    "df['date'] = convert_month_id_to_datetime(df['month_id'])\n"
   ]
  },
  {
   "cell_type": "code",
   "execution_count": 17,
   "metadata": {},
   "outputs": [],
   "source": [
    "from sklearn.preprocessing import StandardScaler\n",
    "\n",
    "# Assuming continuous features need scaling\n",
    "features_to_scale = ['ged_sb', 'ged_os', 'ged_ns']\n",
    "scaler = StandardScaler()\n",
    "df[features_to_scale] = scaler.fit_transform(df[features_to_scale])\n",
    "\n"
   ]
  },
  {
   "cell_type": "code",
   "execution_count": 18,
   "metadata": {},
   "outputs": [],
   "source": [
    "def batch_feature_importance(df, target_col='ged_sb', batch_size=20):\n",
    "    # Temporarily remove the date column if it's not needed for the analysis\n",
    "    if 'date' in df.columns:\n",
    "        date_series = df['date'].copy()\n",
    "        df.drop('date', axis=1, inplace=True)\n",
    "\n",
    "    # Define the target and prepare the DataFrame by selecting only numeric columns\n",
    "    y = df[target_col].astype(int)  # Ensure the target variable is suitable for classification\n",
    "    X = df.select_dtypes(include=[np.number])  # Exclude non-numeric columns to avoid errors\n",
    "\n",
    "    imputer = SimpleImputer(strategy='median')\n",
    "    scaler = StandardScaler()\n",
    "\n",
    "    feature_importances = pd.DataFrame()\n",
    "    feature_importances['Feature'] = X.columns\n",
    "    feature_importances['Importance'] = 0\n",
    "\n",
    "    # Calculate feature importance in batches\n",
    "    n_features = X.shape[1]\n",
    "    for start in tqdm(range(0, n_features, batch_size)):\n",
    "        end = start + batch_size\n",
    "        # Select a batch of features\n",
    "        batch_features = X.columns[start:end]\n",
    "        X_batch = X[batch_features]\n",
    "\n",
    "        # Handle missing values and scale the data\n",
    "        X_batch_imputed = imputer.fit_transform(X_batch)\n",
    "        X_batch_scaled = scaler.fit_transform(X_batch_imputed)\n",
    "\n",
    "        # Fit the RandomForest classifier\n",
    "        clf = RandomForestClassifier(random_state=42)\n",
    "        clf.fit(X_batch_scaled, y)\n",
    "\n",
    "        # Store the importances for this batch\n",
    "        feature_importances.loc[start:end-1, 'Importance'] += clf.feature_importances_\n",
    "\n",
    "    # Normalize the importance values to sum to 1\n",
    "    feature_importances['Importance'] /= feature_importances['Importance'].sum()\n",
    "\n",
    "    # Sort features by their importance\n",
    "    feature_importances = feature_importances.sort_values(by='Importance', ascending=False).reset_index(drop=True)\n",
    "\n",
    "\n",
    "    if 'date' not in df.columns:\n",
    "        df['date'] = date_series\n",
    "\n",
    "    return feature_importances"
   ]
  },
  {
   "cell_type": "code",
   "execution_count": 19,
   "metadata": {},
   "outputs": [
    {
     "name": "stderr",
     "output_type": "stream",
     "text": [
      "100%|██████████| 6/6 [08:40<00:00, 86.83s/it] "
     ]
    },
    {
     "name": "stdout",
     "output_type": "stream",
     "text": [
      "                       Feature  Importance\n",
      "0                       ged_sb    0.112779\n",
      "1               decay_ged_ns_1    0.097708\n",
      "2      sptime_dist_k001_ged_ns    0.052643\n",
      "3      sptime_dist_k001_ged_os    0.030391\n",
      "4       sptime_dist_k10_ged_ns    0.028549\n",
      "5               splag_1_1_sb_1    0.024663\n",
      "6       splag_1_decay_ged_sb_1    0.024447\n",
      "7        sptime_dist_k1_ged_ns    0.024203\n",
      "8           wdi_nv_agr_totl_kd    0.023487\n",
      "9                    ged_gte_1    0.020078\n",
      "10  ged_sb_decay_12_time_since    0.019090\n",
      "11             spei_48_detrend    0.018597\n",
      "12      sptime_dist_k10_ged_os    0.017343\n",
      "13           spei1_gsm_detrend    0.016198\n",
      "14       mov_sum_6_ged_best_sb    0.015805\n",
      "15       mov_avg_6_ged_best_sb    0.015770\n",
      "16     sptime_dist_k001_ged_sb    0.015466\n",
      "17                treelag_1_ns    0.015324\n",
      "18                treelag_2_os    0.015320\n",
      "19                treelag_1_os    0.015261\n",
      "20                treelag_2_ns    0.015132\n",
      "21       sptime_dist_k1_ged_os    0.013537\n",
      "22       sptime_dist_k1_ged_sb    0.012518\n",
      "23             spei1_gs_prev10    0.011495\n",
      "24        spei1_gs_prev10_anom    0.011087\n",
      "25       ged_sb_tlag_1_splag_1    0.010939\n",
      "26      sptime_dist_k10_ged_sb    0.010687\n",
      "27      mov_sum_12_ged_best_sb    0.009447\n",
      "28      mov_avg_12_ged_best_sb    0.009190\n",
      "29             tlag1_spei1_gsm    0.008910\n",
      "30               ged_sb_tlag_1    0.008260\n",
      "31      mov_avg_36_ged_best_sb    0.007808\n",
      "32      mov_sum_36_ged_best_sb    0.007611\n",
      "33  spei1gsy_lowermedian_count    0.006956\n",
      "34               ged_sb_tlag_6    0.006618\n",
      "35           spei1_gsm_cv_anom    0.006582\n",
      "36               ged_sb_tlag_3    0.006545\n",
      "37             decay_ged_sb_25    0.006529\n",
      "38                treelag_1_sb    0.006522\n",
      "39                treelag_2_sb    0.006439\n",
      "40               ged_sb_tlag_2    0.006330\n",
      "41               ged_sb_tlag_7    0.006310\n",
      "42  count_moder_drought_prev10    0.006297\n",
      "43               ged_sb_tlag_4    0.006276\n",
      "44                  ln_capdist    0.006124\n",
      "45               ged_sb_tlag_5    0.006091\n",
      "46  tlag_12_harvarea_maincrops    0.005969\n",
      "47            tlag_12_crop_sum    0.005954\n",
      "48               ged_sb_tlag_8    0.005893\n",
      "49              ged_sb_tlag_11    0.005871\n"
     ]
    },
    {
     "name": "stderr",
     "output_type": "stream",
     "text": [
      "\n"
     ]
    }
   ],
   "source": [
    "\n",
    "important_features = batch_feature_importance(df, 'ged_sb', 20)\n",
    "print(important_features.head(50))  \n",
    "\n"
   ]
  },
  {
   "cell_type": "code",
   "execution_count": 20,
   "metadata": {},
   "outputs": [],
   "source": [
    "top_50_features = important_features.head(50)"
   ]
  },
  {
   "cell_type": "code",
   "execution_count": 24,
   "metadata": {},
   "outputs": [],
   "source": [
    "# Assuming the DataFrame includes a 'date' and 'priogrid_gid' for sorting and grouping\n",
    "# Filter the DataFrame to keep only the top 50 features plus the target\n",
    "df_filtered = df[top_50_features]\n",
    "\n",
    "\n",
    "grouped = df_filtered.sort_values(by='date').groupby('priogrid_gid')\n",
    "transformer_input = {gid: grp.drop(columns=['priogrid_gid']).values for gid, grp in grouped}\n",
    "\n"
   ]
  },
  {
   "cell_type": "code",
   "execution_count": 25,
   "metadata": {},
   "outputs": [],
   "source": [
    "# Print the shapes of each array in the transformer_input dictionary\n",
    "for gid, array in transformer_input.items():\n",
    "    print(f'Shape of array for priogrid_gid {gid}: {array.shape}')\n"
   ]
  }
 ],
 "metadata": {
  "kernelspec": {
   "display_name": "Python 3",
   "language": "python",
   "name": "python3"
  },
  "language_info": {
   "codemirror_mode": {
    "name": "ipython",
    "version": 3
   },
   "file_extension": ".py",
   "mimetype": "text/x-python",
   "name": "python",
   "nbconvert_exporter": "python",
   "pygments_lexer": "ipython3",
   "version": "3.9.12"
  }
 },
 "nbformat": 4,
 "nbformat_minor": 2
}
